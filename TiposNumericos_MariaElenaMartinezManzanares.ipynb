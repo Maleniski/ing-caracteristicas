{
  "cells": [
    {
      "cell_type": "markdown",
      "metadata": {
        "id": "view-in-github",
        "colab_type": "text"
      },
      "source": [
        "<a href=\"https://colab.research.google.com/github/Maleniski/ing-caracteristicas/blob/main/TiposNumericos_MariaElenaMartinezManzanares.ipynb\" target=\"_parent\"><img src=\"https://colab.research.google.com/assets/colab-badge.svg\" alt=\"Open In Colab\"/></a>"
      ]
    },
    {
      "cell_type": "markdown",
      "metadata": {
        "id": "RbAtlE33ahZH"
      },
      "source": [
        "<center>\n",
        "<p><img src=\"https://mcd.unison.mx/wp-content/themes/awaken/img/logo_mcd.png\" width=\"150\">\n",
        "</p>\n",
        "\n",
        "\n",
        "\n",
        "<h1>Curso Ingeniería de Características</h1>\n",
        "\n",
        "<h3>Datos numéricos</h3>\n",
        "\n",
        "**Estudiante:** María Elena Martínez Manzanares.\n",
        "\n",
        "**Programa:** Maestría en Ciencia de Datos.\n",
        "\n",
        "**Asignatura:** Ingeniería de Características.\n",
        "\n",
        "**Profesor:** Julio Waissman Vilanova.\n",
        "\n",
        "<p>\n",
        "<img src=\"https://identidadbuho.unison.mx/wp-content/uploads/2019/06/letragrama-cmyk-72.jpg\" width=\"150\">\n",
        "</p>\n",
        "\n",
        "\n",
        "<a target=\"_blank\" href=\"https://colab.research.google.com/github/mcd-unison/ing-caract/blob/main/ejemplos/tipos/python/numericos.ipynb\"><img src=\"https://i.ibb.co/2P3SLwK/colab.png\"  style=\"padding-bottom:5px;\"  width=\"30\" /> Ejecuta en Colab</a>\n",
        "\n",
        "</center>"
      ]
    },
    {
      "cell_type": "code",
      "execution_count": 1,
      "metadata": {
        "id": "WwwzttfLaa27"
      },
      "outputs": [],
      "source": [
        "import numpy as np\n",
        "import pandas as pd\n",
        "from sklearn import preprocessing\n",
        "import urllib.request"
      ]
    },
    {
      "cell_type": "markdown",
      "metadata": {
        "id": "7jd42qfQdMnq"
      },
      "source": [
        "## Descargando datos\n",
        "\n",
        "Para poder descargar los datos que vamos a utilizar, vamos a requerir el módulo de ``kaggle``. Por lo que vamos a [seguir estos pasos](https://www.kaggle.com/general/74235) para usar correctamente la API de Kaggle en Colab."
      ]
    },
    {
      "cell_type": "code",
      "execution_count": null,
      "metadata": {
        "id": "gBpOzoMQda0v"
      },
      "outputs": [],
      "source": [
        "!pip install -q kaggle\n",
        "\n",
        "from google.colab import files\n",
        "files.upload()"
      ]
    },
    {
      "cell_type": "code",
      "execution_count": 3,
      "metadata": {
        "colab": {
          "base_uri": "https://localhost:8080/"
        },
        "id": "6ImxfNOye8Ad",
        "outputId": "2f7cd259-2c3e-4f3a-cdf7-1279edd70086"
      },
      "outputs": [
        {
          "output_type": "stream",
          "name": "stdout",
          "text": [
            "ref                                                            title                                                size  lastUpdated          downloadCount  voteCount  usabilityRating  \n",
            "-------------------------------------------------------------  --------------------------------------------------  -----  -------------------  -------------  ---------  ---------------  \n",
            "kaggleashwin/population-dataset                                World Population by Countries Dataset (1960-2021)    69KB  2022-08-31 05:30:26            948         43  1.0              \n",
            "iamsouravbanerjee/house-rent-prediction-dataset                House Rent Prediction Dataset                        82KB  2022-08-20 13:49:03           8048        224  1.0              \n",
            "iamsouravbanerjee/world-population-dataset                     World Population Dataset                             17KB  2022-08-31 11:20:04           2130         89  1.0              \n",
            "sveta151/tiktok-popular-songs-2021                             TikTok popular songs 2021                            11KB  2022-08-22 11:02:34            700         31  1.0              \n",
            "ariyoomotade/netflix-data-cleaning-analysis-and-visualization  Netflix Data: Cleaning, Analysis and Visualization  270KB  2022-08-26 09:25:43           2192         57  1.0              \n",
            "deepcontractor/mcdonalds-india-menu-nutrition-facts            McDonald's India : Menu Nutrition Dataset             5KB  2022-07-28 17:08:52           5406        183  0.9411765        \n",
            "arianazmoudeh/airbnbopendata                                   Airbnb Open Data                                     10MB  2022-08-01 15:58:10           3661        109  0.9705882        \n",
            "estienneggx/spotify-unpopular-songs                            Spotify unpopular songs                             737KB  2022-09-04 22:10:41            404         24  1.0              \n",
            "sveta151/tiktok-popular-songs-2019                             TikTok popular songs 2019                            45KB  2022-08-22 10:04:48            752         29  1.0              \n",
            "deepcontractor/smoke-detection-dataset                         Smoke Detection Dataset                               2MB  2022-08-21 06:29:34           1316         47  1.0              \n",
            "charanchandrasekaran/top-6-economies-in-the-world-by-gdp       Top 6 Economies in the world by GDP                  21KB  2022-08-26 05:57:26            460         26  0.9705882        \n",
            "timmayer/covid-news-articles-2020-2022                         COVID News Articles (2020 - 2022)                   889MB  2022-08-31 17:22:48            251         28  0.9705882        \n",
            "sveta151/tiktok-popular-songs-2022                             Tiktok popular songs 2022                            15KB  2022-08-22 11:20:57            937         43  1.0              \n",
            "dansbecker/melbourne-housing-snapshot                          Melbourne Housing Snapshot                          451KB  2018-06-05 12:52:24          94717       1132  0.7058824        \n",
            "tarundalal/100-richest-people-in-world                         100 Richest People In World                           3KB  2022-08-17 14:30:02           1156         52  1.0              \n",
            "reihanenamdari/breast-cancer                                   Breast Cancer                                        43KB  2022-08-08 19:25:55           1671         64  1.0              \n",
            "advaypatil/youtube-statistics                                  Youtube Statistics                                    2MB  2022-08-26 02:03:19            646         31  1.0              \n",
            "gauravtopre/bank-customer-churn-dataset                        Bank Customer Churn Dataset                         187KB  2022-08-30 15:01:34            375         31  1.0              \n",
            "infamouscoder/dataset-netflix-shows                            Dataset: NetFlix Shows                                1MB  2022-08-11 05:05:41           1745         68  1.0              \n",
            "sandeepmajumdar/airbnbnyccleaned                               Airbnb-NYC-Cleaned                                    7MB  2022-08-25 06:13:12            338         24  1.0              \n"
          ]
        }
      ],
      "source": [
        "!mkdir ~/.kaggle\n",
        "!cp kaggle.json ~/.kaggle/\n",
        "!chmod 600 ~/.kaggle/kaggle.json\n",
        "\n",
        "# Y ahora probamos que todo funciona bien, al ver la lista de datasets\n",
        "!kaggle datasets list"
      ]
    },
    {
      "cell_type": "markdown",
      "metadata": {
        "id": "l-AQphFDiKMD"
      },
      "source": [
        "Y listo, vamos a descargar nuestro conjunto de datos"
      ]
    },
    {
      "cell_type": "code",
      "execution_count": 4,
      "metadata": {
        "colab": {
          "base_uri": "https://localhost:8080/"
        },
        "id": "AUQ1AxxLiNub",
        "outputId": "7fe94d35-3685-4c0a-d45a-066ddbe9b3ce"
      },
      "outputs": [
        {
          "output_type": "stream",
          "name": "stdout",
          "text": [
            "Downloading california-housing-prices.zip to /content\n",
            "\r  0% 0.00/400k [00:00<?, ?B/s]\n",
            "\r100% 400k/400k [00:00<00:00, 77.2MB/s]\n"
          ]
        }
      ],
      "source": [
        "!kaggle datasets download 'camnugent/california-housing-prices'\n"
      ]
    },
    {
      "cell_type": "markdown",
      "metadata": {
        "id": "q1ybqSnmjb-8"
      },
      "source": [
        "Los datos se encuentran en archivo comprimido, pero es un `csv`, por lo que lo podemos abrir directamente en Pandas."
      ]
    },
    {
      "cell_type": "code",
      "execution_count": 5,
      "metadata": {
        "colab": {
          "base_uri": "https://localhost:8080/"
        },
        "id": "iZow6In4jbTM",
        "outputId": "befe7a5a-1d03-43a6-90b8-f03e86856638"
      },
      "outputs": [
        {
          "output_type": "stream",
          "name": "stdout",
          "text": [
            "<class 'pandas.core.frame.DataFrame'>\n",
            "RangeIndex: 20640 entries, 0 to 20639\n",
            "Data columns (total 10 columns):\n",
            " #   Column              Non-Null Count  Dtype  \n",
            "---  ------              --------------  -----  \n",
            " 0   longitude           20640 non-null  float64\n",
            " 1   latitude            20640 non-null  float64\n",
            " 2   housing_median_age  20640 non-null  float64\n",
            " 3   total_rooms         20640 non-null  float64\n",
            " 4   total_bedrooms      20433 non-null  float64\n",
            " 5   population          20640 non-null  float64\n",
            " 6   households          20640 non-null  float64\n",
            " 7   median_income       20640 non-null  float64\n",
            " 8   median_house_value  20640 non-null  float64\n",
            " 9   ocean_proximity     20640 non-null  object \n",
            "dtypes: float64(9), object(1)\n",
            "memory usage: 1.6+ MB\n"
          ]
        }
      ],
      "source": [
        "df_raw = pd.read_csv(\"./california-housing-prices.zip\")\n",
        "\n",
        "df_raw.info()"
      ]
    },
    {
      "cell_type": "markdown",
      "metadata": {
        "id": "FdM--0aekHBi"
      },
      "source": [
        "## Explorando los datos\n",
        "\n",
        "Vamos a ver como se comportan cada una de las variables y para esto vamos a usar diferentes métodos de graficación que vienen incluidos en Pandas.\n",
        "\n",
        "Lo primero que vamos a hacer va a ser revisar las estadísticas básicas de cada variables."
      ]
    },
    {
      "cell_type": "code",
      "execution_count": 6,
      "metadata": {
        "colab": {
          "base_uri": "https://localhost:8080/",
          "height": 344
        },
        "id": "FIx1LHqysEUn",
        "outputId": "a0212d75-a8ad-453e-d401-3b54f90da808"
      },
      "outputs": [
        {
          "output_type": "execute_result",
          "data": {
            "text/plain": [
              "          longitude      latitude  housing_median_age   total_rooms  \\\n",
              "count  20640.000000  20640.000000        20640.000000  20640.000000   \n",
              "mean    -119.569704     35.631861           28.639486   2635.763081   \n",
              "std        2.003532      2.135952           12.585558   2181.615252   \n",
              "min     -124.350000     32.540000            1.000000      2.000000   \n",
              "25%     -121.800000     33.930000           18.000000   1447.750000   \n",
              "50%     -118.490000     34.260000           29.000000   2127.000000   \n",
              "75%     -118.010000     37.710000           37.000000   3148.000000   \n",
              "max     -114.310000     41.950000           52.000000  39320.000000   \n",
              "\n",
              "       total_bedrooms    population    households  median_income  \\\n",
              "count    20433.000000  20640.000000  20640.000000   20640.000000   \n",
              "mean       537.870553   1425.476744    499.539680       3.870671   \n",
              "std        421.385070   1132.462122    382.329753       1.899822   \n",
              "min          1.000000      3.000000      1.000000       0.499900   \n",
              "25%        296.000000    787.000000    280.000000       2.563400   \n",
              "50%        435.000000   1166.000000    409.000000       3.534800   \n",
              "75%        647.000000   1725.000000    605.000000       4.743250   \n",
              "max       6445.000000  35682.000000   6082.000000      15.000100   \n",
              "\n",
              "       median_house_value  \n",
              "count        20640.000000  \n",
              "mean        206855.816909  \n",
              "std         115395.615874  \n",
              "min          14999.000000  \n",
              "25%         119600.000000  \n",
              "50%         179700.000000  \n",
              "75%         264725.000000  \n",
              "max         500001.000000  "
            ],
            "text/html": [
              "\n",
              "  <div id=\"df-6f296f09-fe0b-4ec3-ba1a-f2d2420ed9bb\">\n",
              "    <div class=\"colab-df-container\">\n",
              "      <div>\n",
              "<style scoped>\n",
              "    .dataframe tbody tr th:only-of-type {\n",
              "        vertical-align: middle;\n",
              "    }\n",
              "\n",
              "    .dataframe tbody tr th {\n",
              "        vertical-align: top;\n",
              "    }\n",
              "\n",
              "    .dataframe thead th {\n",
              "        text-align: right;\n",
              "    }\n",
              "</style>\n",
              "<table border=\"1\" class=\"dataframe\">\n",
              "  <thead>\n",
              "    <tr style=\"text-align: right;\">\n",
              "      <th></th>\n",
              "      <th>longitude</th>\n",
              "      <th>latitude</th>\n",
              "      <th>housing_median_age</th>\n",
              "      <th>total_rooms</th>\n",
              "      <th>total_bedrooms</th>\n",
              "      <th>population</th>\n",
              "      <th>households</th>\n",
              "      <th>median_income</th>\n",
              "      <th>median_house_value</th>\n",
              "    </tr>\n",
              "  </thead>\n",
              "  <tbody>\n",
              "    <tr>\n",
              "      <th>count</th>\n",
              "      <td>20640.000000</td>\n",
              "      <td>20640.000000</td>\n",
              "      <td>20640.000000</td>\n",
              "      <td>20640.000000</td>\n",
              "      <td>20433.000000</td>\n",
              "      <td>20640.000000</td>\n",
              "      <td>20640.000000</td>\n",
              "      <td>20640.000000</td>\n",
              "      <td>20640.000000</td>\n",
              "    </tr>\n",
              "    <tr>\n",
              "      <th>mean</th>\n",
              "      <td>-119.569704</td>\n",
              "      <td>35.631861</td>\n",
              "      <td>28.639486</td>\n",
              "      <td>2635.763081</td>\n",
              "      <td>537.870553</td>\n",
              "      <td>1425.476744</td>\n",
              "      <td>499.539680</td>\n",
              "      <td>3.870671</td>\n",
              "      <td>206855.816909</td>\n",
              "    </tr>\n",
              "    <tr>\n",
              "      <th>std</th>\n",
              "      <td>2.003532</td>\n",
              "      <td>2.135952</td>\n",
              "      <td>12.585558</td>\n",
              "      <td>2181.615252</td>\n",
              "      <td>421.385070</td>\n",
              "      <td>1132.462122</td>\n",
              "      <td>382.329753</td>\n",
              "      <td>1.899822</td>\n",
              "      <td>115395.615874</td>\n",
              "    </tr>\n",
              "    <tr>\n",
              "      <th>min</th>\n",
              "      <td>-124.350000</td>\n",
              "      <td>32.540000</td>\n",
              "      <td>1.000000</td>\n",
              "      <td>2.000000</td>\n",
              "      <td>1.000000</td>\n",
              "      <td>3.000000</td>\n",
              "      <td>1.000000</td>\n",
              "      <td>0.499900</td>\n",
              "      <td>14999.000000</td>\n",
              "    </tr>\n",
              "    <tr>\n",
              "      <th>25%</th>\n",
              "      <td>-121.800000</td>\n",
              "      <td>33.930000</td>\n",
              "      <td>18.000000</td>\n",
              "      <td>1447.750000</td>\n",
              "      <td>296.000000</td>\n",
              "      <td>787.000000</td>\n",
              "      <td>280.000000</td>\n",
              "      <td>2.563400</td>\n",
              "      <td>119600.000000</td>\n",
              "    </tr>\n",
              "    <tr>\n",
              "      <th>50%</th>\n",
              "      <td>-118.490000</td>\n",
              "      <td>34.260000</td>\n",
              "      <td>29.000000</td>\n",
              "      <td>2127.000000</td>\n",
              "      <td>435.000000</td>\n",
              "      <td>1166.000000</td>\n",
              "      <td>409.000000</td>\n",
              "      <td>3.534800</td>\n",
              "      <td>179700.000000</td>\n",
              "    </tr>\n",
              "    <tr>\n",
              "      <th>75%</th>\n",
              "      <td>-118.010000</td>\n",
              "      <td>37.710000</td>\n",
              "      <td>37.000000</td>\n",
              "      <td>3148.000000</td>\n",
              "      <td>647.000000</td>\n",
              "      <td>1725.000000</td>\n",
              "      <td>605.000000</td>\n",
              "      <td>4.743250</td>\n",
              "      <td>264725.000000</td>\n",
              "    </tr>\n",
              "    <tr>\n",
              "      <th>max</th>\n",
              "      <td>-114.310000</td>\n",
              "      <td>41.950000</td>\n",
              "      <td>52.000000</td>\n",
              "      <td>39320.000000</td>\n",
              "      <td>6445.000000</td>\n",
              "      <td>35682.000000</td>\n",
              "      <td>6082.000000</td>\n",
              "      <td>15.000100</td>\n",
              "      <td>500001.000000</td>\n",
              "    </tr>\n",
              "  </tbody>\n",
              "</table>\n",
              "</div>\n",
              "      <button class=\"colab-df-convert\" onclick=\"convertToInteractive('df-6f296f09-fe0b-4ec3-ba1a-f2d2420ed9bb')\"\n",
              "              title=\"Convert this dataframe to an interactive table.\"\n",
              "              style=\"display:none;\">\n",
              "        \n",
              "  <svg xmlns=\"http://www.w3.org/2000/svg\" height=\"24px\"viewBox=\"0 0 24 24\"\n",
              "       width=\"24px\">\n",
              "    <path d=\"M0 0h24v24H0V0z\" fill=\"none\"/>\n",
              "    <path d=\"M18.56 5.44l.94 2.06.94-2.06 2.06-.94-2.06-.94-.94-2.06-.94 2.06-2.06.94zm-11 1L8.5 8.5l.94-2.06 2.06-.94-2.06-.94L8.5 2.5l-.94 2.06-2.06.94zm10 10l.94 2.06.94-2.06 2.06-.94-2.06-.94-.94-2.06-.94 2.06-2.06.94z\"/><path d=\"M17.41 7.96l-1.37-1.37c-.4-.4-.92-.59-1.43-.59-.52 0-1.04.2-1.43.59L10.3 9.45l-7.72 7.72c-.78.78-.78 2.05 0 2.83L4 21.41c.39.39.9.59 1.41.59.51 0 1.02-.2 1.41-.59l7.78-7.78 2.81-2.81c.8-.78.8-2.07 0-2.86zM5.41 20L4 18.59l7.72-7.72 1.47 1.35L5.41 20z\"/>\n",
              "  </svg>\n",
              "      </button>\n",
              "      \n",
              "  <style>\n",
              "    .colab-df-container {\n",
              "      display:flex;\n",
              "      flex-wrap:wrap;\n",
              "      gap: 12px;\n",
              "    }\n",
              "\n",
              "    .colab-df-convert {\n",
              "      background-color: #E8F0FE;\n",
              "      border: none;\n",
              "      border-radius: 50%;\n",
              "      cursor: pointer;\n",
              "      display: none;\n",
              "      fill: #1967D2;\n",
              "      height: 32px;\n",
              "      padding: 0 0 0 0;\n",
              "      width: 32px;\n",
              "    }\n",
              "\n",
              "    .colab-df-convert:hover {\n",
              "      background-color: #E2EBFA;\n",
              "      box-shadow: 0px 1px 2px rgba(60, 64, 67, 0.3), 0px 1px 3px 1px rgba(60, 64, 67, 0.15);\n",
              "      fill: #174EA6;\n",
              "    }\n",
              "\n",
              "    [theme=dark] .colab-df-convert {\n",
              "      background-color: #3B4455;\n",
              "      fill: #D2E3FC;\n",
              "    }\n",
              "\n",
              "    [theme=dark] .colab-df-convert:hover {\n",
              "      background-color: #434B5C;\n",
              "      box-shadow: 0px 1px 3px 1px rgba(0, 0, 0, 0.15);\n",
              "      filter: drop-shadow(0px 1px 2px rgba(0, 0, 0, 0.3));\n",
              "      fill: #FFFFFF;\n",
              "    }\n",
              "  </style>\n",
              "\n",
              "      <script>\n",
              "        const buttonEl =\n",
              "          document.querySelector('#df-6f296f09-fe0b-4ec3-ba1a-f2d2420ed9bb button.colab-df-convert');\n",
              "        buttonEl.style.display =\n",
              "          google.colab.kernel.accessAllowed ? 'block' : 'none';\n",
              "\n",
              "        async function convertToInteractive(key) {\n",
              "          const element = document.querySelector('#df-6f296f09-fe0b-4ec3-ba1a-f2d2420ed9bb');\n",
              "          const dataTable =\n",
              "            await google.colab.kernel.invokeFunction('convertToInteractive',\n",
              "                                                     [key], {});\n",
              "          if (!dataTable) return;\n",
              "\n",
              "          const docLinkHtml = 'Like what you see? Visit the ' +\n",
              "            '<a target=\"_blank\" href=https://colab.research.google.com/notebooks/data_table.ipynb>data table notebook</a>'\n",
              "            + ' to learn more about interactive tables.';\n",
              "          element.innerHTML = '';\n",
              "          dataTable['output_type'] = 'display_data';\n",
              "          await google.colab.output.renderOutput(dataTable, element);\n",
              "          const docLink = document.createElement('div');\n",
              "          docLink.innerHTML = docLinkHtml;\n",
              "          element.appendChild(docLink);\n",
              "        }\n",
              "      </script>\n",
              "    </div>\n",
              "  </div>\n",
              "  "
            ]
          },
          "metadata": {},
          "execution_count": 6
        }
      ],
      "source": [
        "df_raw.describe(include='float64')"
      ]
    },
    {
      "cell_type": "markdown",
      "metadata": {
        "id": "-ZK-LHN7sduk"
      },
      "source": [
        "Pero esto no nos da toda la información necesaria, por lo que tenemos que revisar cada una de las variables. \n",
        "\n",
        "Vamos a usar un *histograma* para ver como se distribuyen los valores de las diferentes variables.\n",
        "\n",
        "Revisa para cada variable numérica que tenemos."
      ]
    },
    {
      "cell_type": "code",
      "execution_count": 7,
      "metadata": {
        "colab": {
          "base_uri": "https://localhost:8080/",
          "height": 355
        },
        "id": "XKsBKNIusr8c",
        "outputId": "71a7d523-e25d-40aa-f30a-56d69c985a99"
      },
      "outputs": [
        {
          "output_type": "stream",
          "name": "stdout",
          "text": [
            "Histograma\n",
            "\n"
          ]
        },
        {
          "output_type": "display_data",
          "data": {
            "text/plain": [
              "<Figure size 1080x360 with 1 Axes>"
            ],
            "image/png": "[encoded data removed]"
          },
          "metadata": {
            "needs_background": "light"
          }
        }
      ],
      "source": [
        "df_raw.longitude.hist(bins=50, grid=False, figsize=(15, 5))\n",
        "print(\"Histograma\\n\")"
      ]
    },
    {
      "cell_type": "markdown",
      "metadata": {
        "id": "MY7ZAJ2gtkBY"
      },
      "source": [
        "Si quieres ver todas juntas (aunque no muy claro es una ayuda, se puede hacer el histograma de todas las variables numéricas con el siguiente pedazo de codigo:"
      ]
    },
    {
      "cell_type": "code",
      "execution_count": 8,
      "metadata": {
        "colab": {
          "base_uri": "https://localhost:8080/",
          "height": 914
        },
        "id": "O_AJxZA-twZg",
        "outputId": "bd650803-f1b0-4db0-a713-0a7d9f054b77"
      },
      "outputs": [
        {
          "output_type": "stream",
          "name": "stdout",
          "text": [
            "Histogramas\n",
            "\n"
          ]
        },
        {
          "output_type": "display_data",
          "data": {
            "text/plain": [
              "<Figure size 1080x1080 with 9 Axes>"
            ],
            "image/png": "[encoded data removed]"
          },
          "metadata": {
            "needs_background": "light"
          }
        }
      ],
      "source": [
        "hists = df_raw.hist(bins=50, grid=False, figsize=(15, 15))\n",
        "print(\"Histogramas\\n\")"
      ]
    },
    {
      "cell_type": "markdown",
      "metadata": {
        "id": "-qgE6xoEvX19"
      },
      "source": [
        "## Tratamiento de las variables\n",
        "\n",
        "Vamos a modificar las variables pensando en que las vamos a utilizar para desarrollar modelos de regresión y/o clasificacion, y vamos a revisar algunas técnicas.\n",
        "\n",
        "Vamos a ir desarrollandolas paso a paso y vamos a tratar de dilucidar entre todos cual es la mejor opción para cada variables.\n",
        "\n",
        "Recuerda, es importante saber para que lo quieres, y que técnica vas a utilizar, pero hay algunas cosas que son muy importantes para casi todo algoritmo que optimiza parámetros de un modelo basado en datos:\n",
        "\n",
        "1. Los datos que tienen media 0 facilitan mucho el actuar de los algoritmos de optimización.\n",
        "\n",
        "2. Tener variables que sean *adimensionales* y todas en los mismos rangos facilita el aprendizaje o el uso de métodos estadísticos (sobre todo la parte numérica pero no solamente).\n",
        "\n",
        "3. El escalamiento facilita mucho el preprocesamiento.\n",
        "\n",
        "4. La transformación de datos en muchas ocasiones **es parte del modelo**. El escalamiento o la transformación de variables numéricas se realiza desde la limpieza de datos, pero son al fin de cuenta modelos donde se guardan parámetros. Es una de las principales fuentes de error de muchos desarrollos tecnológicos (mas de los que podría uno creer).\n",
        "\n",
        "5. Es importante asegurarse que no hay valores faltantes, o que los algoritmos que utilicemos sean capaces de lidiar con valores faltantes."
      ]
    },
    {
      "cell_type": "code",
      "execution_count": 9,
      "metadata": {
        "id": "IgMNGD9L4w5N"
      },
      "outputs": [],
      "source": [
        "# Vamos a quedarnos con las variables numéricas solamente\n",
        "numerics = ['int16', 'int32', 'int64', 'float16', 'float32', 'float64']\n",
        "df = df_raw.select_dtypes(include=numerics).copy()\n",
        "\n",
        "#cambia los valores perdidos por 0 en todas las variables\n",
        "df.fillna(0, inplace=True)"
      ]
    },
    {
      "cell_type": "markdown",
      "metadata": {
        "id": "fkHiLxWJwyF6"
      },
      "source": [
        "### Escalamiento\n",
        "\n",
        "El escalamiento de puede hacer de tres maneras básicas:\n",
        "\n",
        "1. *MinMax* \n",
        "2. *MaxAbs*\n",
        "3. *Z-score* o *estandarización*\n",
        "\n",
        "\n",
        "**Ejercicio: ¿Cuales variables serían las mejor adaptadas para utilizar un escalamiento simple? Revisa que pasa con diferentes variables. Escribe aquí cuales variables parecen beneficiarse de un escalamiento de este tipo y cuales no, agrega aqui abajo tus comentarios**"
      ]
    },
    {
      "cell_type": "code",
      "execution_count": 10,
      "metadata": {
        "colab": {
          "base_uri": "https://localhost:8080/",
          "height": 643
        },
        "id": "sc_HbnhMwxN6",
        "outputId": "7a2367e8-da33-4465-d311-62868194f25a"
      },
      "outputs": [
        {
          "output_type": "stream",
          "name": "stdout",
          "text": [
            "Histogramas de acuerdo a 3 tipos de escalamiento\n",
            "\n"
          ]
        },
        {
          "output_type": "display_data",
          "data": {
            "text/plain": [
              "<Figure size 1080x720 with 4 Axes>"
            ],
            "image/png": "[encoded data removed]"
          },
          "metadata": {
            "needs_background": "light"
          }
        }
      ],
      "source": [
        "scalers = [\n",
        "    preprocessing.MinMaxScaler(),\n",
        "    preprocessing.MaxAbsScaler(),\n",
        "    preprocessing.StandardScaler()\n",
        "]\n",
        "nombres = ['Min-Max', 'Max-Abs', 'Z-score']\n",
        "\n",
        "variable = 'median_house_value'\n",
        "df_scalers = df.loc[:, [variable]]\n",
        "\n",
        "for (nombre, scaler) in zip(nombres, scalers):\n",
        "    df_scalers[nombre] = scaler.fit_transform(\n",
        "        df_scalers[variable].values.reshape(-1,1)\n",
        "    )\n",
        "\n",
        "df_scalers.hist(bins=100, grid=False, figsize=(15, 10))\n",
        "print(\"Histogramas de acuerdo a 3 tipos de escalamiento\\n\")"
      ]
    },
    {
      "cell_type": "markdown",
      "metadata": {
        "id": "Bv33TpwRgDE9"
      },
      "source": [
        "**1. Revisa que pasa con diferentes variables. Escribe cuales variables parecen beneficiarse de un escalamiento de este tipo y cuales no, agrega aqui abajo tus comentarios**\n",
        "\n",
        "Análisis de escalamiento de las variables del dataframe.\n",
        "\n",
        "\n",
        "\n",
        "*  **Longitude**: Estos datos no tienen colas pesadas, por lo que el escalamiento no resulta en una compactación muy dramática ni datos atipicos. Puede ser escalada.\n",
        "*  **Latitude**: Estos datos no tienen colas pesadas, por lo que el escalamiento no resulta en una compactación muy dramática ni datos atipicos. Puede ser escalada.\n",
        "* **housing_median_age**: Estos datos no tienen colas pesadas, por lo que el escalamiento no resulta en una compactación muy dramática ni datos atipicos. Puede ser escalada.\n",
        "* **total_rooms**: Tiene muchos datos que se salen del comportamiento de la mayoría de la población. Considero que antes de hacer un escalamiento es necesario transformar para quitar las colas pesadas. \n",
        "* **total_bedrooms**: Tiene muchos datos que se salen del comportamiento de la mayoría de la población. Considero que antes de hacer un escalamiento es necesario transformar para quitar las colas pesadas. \n",
        "* **population**: Tiene muchos datos que se salen del comportamiento de la mayoría de la población. Considero que antes de hacer un escalamiento es necesario transformar para quitar las colas pesadas. \n",
        "* **households**: Tiene muchos datos que se salen del comportamiento de la mayoría de la población. Considero que antes de hacer un escalamiento es necesario transformar para quitar las colas pesadas. \n",
        "* **median_income**: Los datos estan en un rango pequeño, $[0,15]$, y las colas no son tan pesadas como otras variables. Es posible aplicar un escalamiento.\n",
        "* **median_house_value**: Debido a que los datos tienen las colas compactadas, se adapta muy bien a los tres métodos de escalamiento propuesto. En este caso, la variable original tiene un rango muy amplio, $[0,50000]$, por lo que escalar estos datos puede ser benefico para utilizar esta variable en algoritmos de aprendizaje.\n",
        "\n",
        "**2. ¿Cuales variables serían las mejor adaptadas para utilizar un escalamiento simple?**\n",
        "\n",
        "Las variables que se adaptan bien a un escalamiento simple son longitude, latitude, housing_median_age, median_income, median_house_value."
      ]
    },
    {
      "cell_type": "markdown",
      "metadata": {
        "id": "FDmbd_1g96hc"
      },
      "source": [
        "### Transformaciones logarítmicas\n",
        "\n",
        "En muchas ocasiones hay variables con comportamientos parecidos a la exponencial, por lo que un pretratamiento con el logaritmo suele mejorar mucho la distribucion de los datos.\n",
        "\n",
        "**Ejercicio: ¿En este caso en que variables podría aplicar una transformación logarítmica? ¿Se podría una transformación diferente (i.e. raiz cuadrada o cuadrado)? ¿En que casos? Agrumenta tu respuesta aqui mismo**\n",
        "\n"
      ]
    },
    {
      "cell_type": "code",
      "execution_count": 11,
      "metadata": {
        "colab": {
          "base_uri": "https://localhost:8080/",
          "height": 371
        },
        "id": "DtWDcbhl-cG8",
        "outputId": "da88f194-5438-4074-d5b2-73054eb46eef"
      },
      "outputs": [
        {
          "output_type": "stream",
          "name": "stdout",
          "text": [
            "Logarítmica\n",
            "\n"
          ]
        },
        {
          "output_type": "display_data",
          "data": {
            "text/plain": [
              "<Figure size 1080x360 with 2 Axes>"
            ],
            "image/png": "[encoded data removed]"
          },
          "metadata": {
            "needs_background": "light"
          }
        }
      ],
      "source": [
        "variable = 'median_house_value'\n",
        "nueva = variable + \"-log\"\n",
        "\n",
        "df[nueva] = np.log(df[variable].values)/np.log(2)\n",
        "\n",
        "df[[variable, nueva]]\\\n",
        "    .hist(bins=100, grid=False, figsize=(15, 5))\n",
        "\n",
        "print(\"Logarítmica\\n\")"
      ]
    },
    {
      "cell_type": "markdown",
      "metadata": {
        "id": "20VevCZ_wkej"
      },
      "source": [
        "**1.¿En este caso en que variables podría aplicar una transformación logarítmica?**\n",
        "\n",
        "*  **Longitude**: No es posible. La variable tiene rango en $\\mathbb{R}^{-}$.\n",
        "*  **Latitude**: Es posible. No lo considero necesario. Basta con que sea escalada.\n",
        "* **housing_median_age**: La variable tiene un rango muy chico. La transformación sesga los datos.\n",
        "* **total_rooms**:  El minimo de la variable es 2, y tiene colas muy pesadas. La transformación logaritmica podría ayudar al uso de esta variable porque quita las colas pesadas y dado que la variable no tiene datos entre $(0,1)$, la transformación no crece dramaticamente.\n",
        "* **total_bedrooms**:  La variable toma el valor 0 y no permite realizar la transformación.\n",
        "* **population**:  El minimo de la variable es 3, y tiene colas muy pesadas. La transformación logaritmica podría ayudar al uso de esta variable porque quita las colas pesadas y dado que la variable no tiene datos entre $(0,1)$, la transformación no crece dramaticamente.\n",
        "* **households**:  El minimo de la variable es 1, y tiene colas muy pesadas. La transformación logaritmica podría ayudar al uso de esta variable porque quita las colas pesadas y dado que la variable no tiene datos entre  (0,1) , la transformación no crece dramaticamente.\n",
        "* **median_income**: Aunque elimina un poco el sesgo, no considero necesaria la transformación. La variable no tiene colas muy pesadas.\n",
        "* **median_house_value**: Aunque elimina un poco el sesgo, no considero necesaria la transformación. La variable no tiene colas muy pesadas.\n",
        "\n",
        "**2.¿Se podría una transformación diferente (i.e. raiz cuadrada o cuadrado)?**\n",
        "\n",
        "Sí. Basta con que la función que se va utilizar los datos tenga función inversa.\n",
        "\n",
        "**3.¿En que casos? Agrumenta tu respuesta.**\n",
        "\n",
        "La función que se va a utilizar tiene que ser biyectiva, dado que después de realizar la transformación y pasar los datos por algún método de aprendizaje es necesario, si el caso aplica, regresar los datos a la escala original para poder interpretar la información."
      ]
    },
    {
      "cell_type": "markdown",
      "metadata": {
        "id": "wdTdDE13--J4"
      },
      "source": [
        "### Transformación por mapeo a una distribución normal\n",
        "\n",
        "Los métodos principales para una transformación no lineal, con el fin que los datos se asemejen a una distribución normal son los sguientes:\n",
        "\n",
        "- Método de [Box-Cox](http://www.econ.illinois.edu/~econ508/Papers/boxcox64.pdf). El tradicional, pero que sólo se usa en variables con valores positivos.\n",
        "- Método de [Yeo-Johnson](https://link.springer.com/article/10.1007/s10994-021-05960-5). En el enlace hablan del método como el método básico y proponen otro método, se ve interesante pero solo le di una lectura muy superficial.\n",
        "- Método de [Transformación por función de quantil](https://www.ncbi.nlm.nih.gov/pmc/articles/PMC2921808/). Algo complicado y no se que tan buenos resultados tenga para preprocesar datos para entrenamiento de modelos.\n",
        "\n",
        "¿Que tan bien funcionan los diferentes métodos para modificar variables antes de un proceso de aprendizaje? En [este artículo](https://www.google.com/url?sa=t&rct=j&q=&esrc=s&source=web&cd=&cad=rja&uact=8&ved=2ahUKEwipwtHCuPL5AhVgC0QIHRLMAEcQFnoECAYQAQ&url=https%3A%2F%2Fwww.mdpi.com%2F2227-7080%2F9%2F3%2F52%2Fpdf%3Fversion%3D1627349465&usg=AOvVaw2j6S3Ho-qTSauAFL6Euldu) hicieron algunos experimentos.\n"
      ]
    },
    {
      "cell_type": "code",
      "execution_count": 13,
      "metadata": {
        "colab": {
          "base_uri": "https://localhost:8080/",
          "height": 643
        },
        "id": "w4H3k-wWqtaH",
        "outputId": "c3a8d60a-9dab-4fd7-cd68-5cea49ba5ba3"
      },
      "outputs": [
        {
          "output_type": "stream",
          "name": "stdout",
          "text": [
            "Histogramas de acuerdo a 3 tipos de transformación a distribución normal\n",
            "\n"
          ]
        },
        {
          "output_type": "display_data",
          "data": {
            "text/plain": [
              "<Figure size 1080x720 with 4 Axes>"
            ],
            "image/png": "[encoded data removed]"
          },
          "metadata": {
            "needs_background": "light"
          }
        }
      ],
      "source": [
        "normal_dist = [\n",
        "    preprocessing.PowerTransformer(method='box-cox'),\n",
        "    preprocessing.PowerTransformer(),\n",
        "    preprocessing.QuantileTransformer(output_distribution='normal')\n",
        "]\n",
        "nombres = ['Box-Cox', 'Yeo-Johnson', 'Quantile Normal']\n",
        "#nombres = ['Yeo-Johnson', 'Quantile Normal']\n",
        "\n",
        "variable = 'population'\n",
        "df_transformer = df.loc[:, [variable]]\n",
        "\n",
        "for (nombre, transformer) in zip(nombres, normal_dist):\n",
        "    df_transformer[nombre] = transformer.fit_transform(\n",
        "        df_transformer[variable].values.reshape(-1,1)\n",
        "    )\n",
        "\n",
        "df_transformer.hist(bins=100, grid=False, figsize=(15, 10))\n",
        "print(\"Histogramas de acuerdo a 3 tipos de transformación a distribución normal\\n\")"
      ]
    },
    {
      "cell_type": "markdown",
      "metadata": {
        "id": "Ehc9DGpVB6uJ"
      },
      "source": [
        "**Ejercicio: Revisa con las diferentes variables cuales se podrían ver beneficiadas de una de estas transformaciones y cuales no. Escribe tu respuesta y argumenta tus resultados aquí mismo**\n",
        "\n",
        "| Variable           | Box-Cox                          | Yeo-Johnson   | Quantile Normal                          | ¿Es conveniente?                                                                                                                                                                             |\n",
        "|--------------------|----------------------------------|---------------|------------------------------------------|----------------------------------------------------------------------------------------------------------------------------------------------------------------------------------------------|\n",
        "| longitude          | No es posible. Valores negativos | No normaliza. | Si normaliza.                            | Sí. Le quita bimodalidad a los datos. Solamente que es importante identificar las causas de la bimodalidad.                                                                                  |\n",
        "| latitude           | No normaliza.                    | No normaliza. | Si normaliza.                            | Sí. Le quita bimodalidad a los datos. Solamente que es importante identificar las causas de la bimodalidad.                                                                                  |\n",
        "| housing_median_age | No normaliza.                    | No normaliza. | Si normaliza, no lo hace  correctamente. | No. En general, los datos no tienen colas pesadas, ni datos atipicos. Es necesario darle tratamiento a la cola que tiene en el valor 50 pero es originado de como se recolectaron los datos. |\n",
        "| total_rooms        | Si normaliza.                    | Si normaliza. | Si normaliza.                            | Sí. Quita las colas pesadas.                                                                                                                                                                 |\n",
        "| total_bedrooms     | No es posible.  Valores cero.    | Si normaliza. | Si normaliza.                            | Sí, pero la transformación crea un grupo importante de datos atipicos que necesitara tratamiento.                                                                                            |\n",
        "| population         | Si normaliza.                    | Si normaliza. | Si normaliza.                            | Sí. Quita las colas pesadas.                                                                                                                                                                 |\n",
        "| households         | Si normaliza.                    | Si normaliza. | Si normaliza.                            | Sí. Quita las colas pesadas.                                                                                                                                                                 |\n",
        "| median_income      | Si normaliza.                    | Si normaliza. | Si normaliza.                            | Podría ser conveniente. Elimina una cola (no muy pesada).                                                                                                                                    |\n",
        "| median_house_value | Si normaliza.                    | Si normaliza. | No normaliza correctamente.              | Podría ser conveniente, pero hay que tratar el grupo de datos alrededor de 5000 para que la transformación funcione correctamente.                                                           |\n",
        "| population-log     | Si normaliza.                    | Si normaliza. | Si normaliza.                            | No es necesario. Los datos ya son normales.                                                                                                                                                  |"
      ]
    },
    {
      "cell_type": "markdown",
      "metadata": {
        "id": "HFehQP3p2luL"
      },
      "source": [
        "## Discretización\n",
        "\n",
        "Tambien conocida como *bucketting* o *binning* es un método para convertir una variable numérica en discreta por regiones. \n",
        "\n",
        "¿Y para qué quisiersamos discretizar una variables? Porque hay casos donde las variables en forma numérica no nos permiten extraer fácilmente características importantes. Esto es particularmente cierto en variables con una distribución multimodal.\n",
        "\n",
        "Por ejemplo, veamos la variable *latitude*:\n"
      ]
    },
    {
      "cell_type": "code",
      "execution_count": 14,
      "metadata": {
        "colab": {
          "base_uri": "https://localhost:8080/",
          "height": 355
        },
        "id": "5Hl4rjUZ4cLe",
        "outputId": "814f8ef7-2a94-4b62-cbc9-59a64ce7ee79"
      },
      "outputs": [
        {
          "output_type": "stream",
          "name": "stdout",
          "text": [
            "Histograma\n",
            "\n"
          ]
        },
        {
          "output_type": "display_data",
          "data": {
            "text/plain": [
              "<Figure size 1080x360 with 1 Axes>"
            ],
            "image/png": "[encoded data removed]"
          },
          "metadata": {
            "needs_background": "light"
          }
        }
      ],
      "source": [
        "df_raw.latitude.hist(bins=100, grid=False, figsize=(15, 5))\n",
        "print(\"Histograma\\n\")"
      ]
    },
    {
      "cell_type": "markdown",
      "metadata": {
        "id": "0RPXJ2or5Xzu"
      },
      "source": [
        "Podemos ver como hay varios picos. Si revisamos un poco, vemos que los picos representan las latitudes de diferentes ciudades grandes de California. Esto implica que nuestro dato numñerico, en realidad está representando una situación que es de orden cualitativo.\n",
        "\n",
        "Hacer *binning* implica prácticamente separar en intervalos los datos y asignarles un valor cualitativo a cada uno. Esta separación de puede hacer de 3 tipos:\n",
        "\n",
        "1. Por intervalos uniformes\n",
        "2. Por cuantiles\n",
        "3. Por algun método de aprendizaje no supervisado (K-medias es el más sencillo de implementar).\n",
        "\n",
        "Vamos a ver las diferencias entre los tres métodos:"
      ]
    },
    {
      "cell_type": "code",
      "execution_count": 15,
      "metadata": {
        "id": "nvAEF66E6NIy"
      },
      "outputs": [],
      "source": [
        "\n",
        "nbins = 7\n",
        "estrategias = ['uniform', 'quantile', 'kmeans']\n",
        "binarizers = [\n",
        "    preprocessing.KBinsDiscretizer(\n",
        "        n_bins=nbins, encode='ordinal', strategy=estrategia\n",
        "    )\n",
        "    for estrategia in estrategias]\n",
        "\n",
        "variable = 'latitude'\n",
        "df_bin = df[[variable]].copy()\n",
        "\n",
        "for (estrategia, binarizer) in zip(estrategias, binarizers):\n",
        "  df_bin[estrategia] = binarizer.fit_transform(\n",
        "      df_bin[variable].values.reshape(-1,1)\n",
        "  )"
      ]
    },
    {
      "cell_type": "markdown",
      "metadata": {
        "id": "QBFmoaVA7u3T"
      },
      "source": [
        "Si no le dices que la codificación es `ordinal`, entonces te lo genera como codificación `one-hot` (que vamos a ver en el manejo de datos cualitativos).\n",
        "\n",
        "Por ejemplo:"
      ]
    },
    {
      "cell_type": "code",
      "execution_count": 16,
      "metadata": {
        "colab": {
          "base_uri": "https://localhost:8080/"
        },
        "id": "wYkIHGPt8KiK",
        "outputId": "d1751e88-6097-45f5-e650-c3aab1faf3a2"
      },
      "outputs": [
        {
          "output_type": "stream",
          "name": "stdout",
          "text": [
            "Un pedazo del resultado (que se encuentra como matriz dispersa)\n",
            "[[1. 0. 0.]\n",
            " [1. 0. 0.]\n",
            " [1. 0. 0.]\n",
            " [1. 0. 0.]\n",
            " [1. 0. 0.]\n",
            " [0. 0. 1.]\n",
            " [0. 0. 1.]\n",
            " [0. 0. 1.]\n",
            " [0. 0. 1.]\n",
            " [0. 0. 1.]]\n",
            "\n",
            "Número de casos por bin (o bucket)\n"
          ]
        },
        {
          "output_type": "execute_result",
          "data": {
            "text/plain": [
              "matrix([[11764.,  6448.,  2428.]])"
            ]
          },
          "metadata": {},
          "execution_count": 16
        }
      ],
      "source": [
        "a = preprocessing.KBinsDiscretizer(n_bins=3, strategy='kmeans')\\\n",
        "    .fit_transform(df_bin.latitude.values.reshape(-1,1))\n",
        "\n",
        "print(\"Un pedazo del resultado (que se encuentra como matriz dispersa)\")\n",
        "print(a[11700:11710,:].toarray())\n",
        "\n",
        "print(\"\\nNúmero de casos por bin (o bucket)\")\n",
        "a.sum(axis=0)"
      ]
    },
    {
      "cell_type": "markdown",
      "metadata": {
        "id": "ApkFVkMb_E-_"
      },
      "source": [
        "Aqui podemos ver como nos quedo la binarizacion:"
      ]
    },
    {
      "cell_type": "code",
      "execution_count": 17,
      "metadata": {
        "colab": {
          "base_uri": "https://localhost:8080/",
          "height": 585
        },
        "id": "TD-o9SWCb_xm",
        "outputId": "7e4e586b-c76d-4b37-8012-ec6c0a6f8ded"
      },
      "outputs": [
        {
          "output_type": "display_data",
          "data": {
            "text/plain": [
              "<Figure size 1080x576 with 4 Axes>"
            ],
            "image/png": "[encoded data removed]"
          },
          "metadata": {}
        }
      ],
      "source": [
        "# Esto es pura graficación\n",
        "\n",
        "import matplotlib.pyplot as plt\n",
        "plt.style.use('ggplot')\n",
        "fig, axs = plt.subplots(2, 2, tight_layout=True, figsize= (15, 8)) \n",
        "\n",
        "for i in range(4):\n",
        "  ax = plt.subplot(2, 2, i+1)\n",
        "  N, bins, patches = ax.hist(df_bin[variable], bins=100)\n",
        "  if i > 0:\n",
        "    ax.vlines(binarizers[i-1].bin_edges_[0], 0, N.max(), lw=1)\n",
        "  #ax.grid(0) \n",
        "  plt.title(df_bin.columns[i])\n",
        "  #plt.ylabel('Counts')\n",
        "  #plt.xlabel(variable)\n",
        "plt.show()"
      ]
    },
    {
      "cell_type": "markdown",
      "metadata": {
        "id": "L133hCxm7MKX"
      },
      "source": [
        "**Ejercicio: ¿Qué pasa si aumentan los *buckets* a 50 por ejemplo? ¿Porqué crees que es mejor mantener un número pequeño de *buquets*? ¿En que variables crees que podría haber una ventaja si se binariza? ¿Porqué? Escribe aqui mismo tus respuestas.**"
      ]
    },
    {
      "cell_type": "markdown",
      "metadata": {
        "id": "d1h3Bx4vBN8B"
      },
      "source": [
        "**1. ¿Qué pasa si aumentan los *buckets* a 50 por ejemplo?**\n",
        "\n",
        "Si hay tantos buckets no permite distinguir las características importantes que estamos buscando. \n",
        "\n",
        "**2. ¿Porqué crees que es mejor mantener un número pequeño de buquets?**\n",
        "\n",
        "Permiten agrupar los datos en segmentos convenientes que nos podrían ayudar a distinguir características que no se logran distinguir en al desplegar la información considerando su rango de forma continua.\n",
        "\n",
        "**3. ¿En que variables crees que podría haber una ventaja si se binariza? ¿Porqué?**\n",
        "\n",
        "En variables que tengan comportamientos multimodales, ya que permite agrupar los datos en rangos representativos de comportamiento. Las variables del datraframe que se ven beneficiadas de esta técnica son longitude, latitude, housing_median_age y median_house_value."
      ]
    }
  ],
  "metadata": {
    "colab": {
      "collapsed_sections": [],
      "provenance": [],
      "include_colab_link": true
    },
    "kernelspec": {
      "display_name": "Python 3.8.5 ('caract')",
      "language": "python",
      "name": "python3"
    },
    "language_info": {
      "name": "python",
      "version": "3.8.5"
    },
    "vscode": {
      "interpreter": {
        "hash": "266c02d0b88fb79ac68216b08bc6bf334e56f5daeb776843302a4ad1205260c4"
      }
    }
  },
  "nbformat": 4,
  "nbformat_minor": 0
}