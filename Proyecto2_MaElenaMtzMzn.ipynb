{
  "nbformat": 4,
  "nbformat_minor": 0,
  "metadata": {
    "colab": {
      "provenance": [],
      "authorship_tag": "ABX9TyN2QECR5R8Mwo06OCt14UWf",
      "include_colab_link": true
    },
    "kernelspec": {
      "name": "python3",
      "display_name": "Python 3"
    },
    "language_info": {
      "name": "python"
    }
  },
  "cells": [
    {
      "cell_type": "markdown",
      "metadata": {
        "id": "view-in-github",
        "colab_type": "text"
      },
      "source": [
        "<a href=\"https://colab.research.google.com/github/Maleniski/ing-caracteristicas/blob/main/Proyecto2_MaElenaMtzMzn.ipynb\" target=\"_parent\"><img src=\"https://colab.research.google.com/assets/colab-badge.svg\" alt=\"Open In Colab\"/></a>"
      ]
    },
    {
      "cell_type": "markdown",
      "source": [
        "# Proyecto 2 (parte 1): Haciendo un tablero que cuente una historia.\n",
        "\n",
        "**Alumno:** María Elena Martínez Manzanares\n",
        "\n",
        "**Profesor:** Doctor Julio Waissman Vilanova\n",
        "\n",
        "**Curso:** Ingeniería de Características\n",
        "\n",
        "**Programa educativo:** Maestría en Ciencia de Datos de la Universidad de Sonora\n",
        "\n",
        "Hermosillo, Sonora a 2 de noviembre del 2022\n",
        "\n",
        "<h2 aling = center > Instrucciones </h2>\n",
        "\n",
        "***\n",
        "Para esta parte del proyecto se solicita que en el repositorio del proyecto se tenga lo siguiente:\n",
        "\n",
        "* Un archivo en html o en pdf con el EDA automático utilizando alguna herramienta.\n",
        "* Una libreta jupyter, o un Rmarkdown, en donde se realice un EDA más orientado a la relación de las variables, recuerda que no tiene que ser muy pulcro, solamente que permita la comunicación técnica entre colegas.\n",
        "* Un archivo en markdown, en el cual se especifique:\n",
        "\n",
        "  1. La historia que queremos contar con nuestros datos.\n",
        "  2. Los KPI y otros indicadores que son útiles para contar la historia (al menos uno). \n",
        "  3. Al menos de un KPI, desarrollar la metodología tal como se muestra en alguno de los formatos facilitados.\n",
        "\n",
        "* Un borrador (puede ser una foto tomada de un cuaderno) de como pensamos hacer el tablero de visualización.\n",
        "\n",
        "***"
      ],
      "metadata": {
        "id": "D9rxM9Nmtgsk"
      }
    },
    {
      "cell_type": "markdown",
      "source": [
        "<h2 aling = center > Solución </h2>\n",
        "\n",
        "Es posible encontrar una descripción de los datos en [esta](https://github.com/Maleniski/ing-caracteristicas/blob/main/FuentesDatosMigrantes/readme.md) liga y los EDAs automáticos en [esta](https://github.com/Maleniski/ing-caracteristicas/tree/main/EDA_automatico_datosmigrantes) carpeta de GitHub.\n",
        "\n",
        "Se presentarán en este cuaderno:\n",
        "* El objeto de nuestro análisis;\n",
        "* EDA que posiblemente nos pueda ayudar a resolver la pregunta de nuestro interés;\n",
        "* KPI diseñado con la [metodología](https://bernardmarr.com/img/KPI%20Indicators%20Template.pdf) vista en clase;\n",
        "* Imagen que presenta el borrado del tablero que se pretende construir.\n"
      ],
      "metadata": {
        "id": "7cEHnr4KynVi"
      }
    },
    {
      "cell_type": "markdown",
      "source": [
        "**Pregunta que deseamos resolver:**\n",
        "\n",
        "<font size=\"5\"> Basados en históricos, ¿qué es lo que le ocurre a un inmigrante ilegal que no logra cruzar la frontera Sonora-Arizona? </font>"
      ],
      "metadata": {
        "id": "5KYesizV0BNe"
      }
    },
    {
      "cell_type": "markdown",
      "source": [
        "Necesitamos gráficas que nos permitan responder las siguientes preguntas, ya que son las que conduciran lo que en realidad queremos responder: nuestra pregunta de investigación. "
      ],
      "metadata": {
        "id": "xyyx6YPiL31O"
      }
    },
    {
      "cell_type": "markdown",
      "source": [
        "<img title=\"Preguntas que estamos interesados en responder\" alt=\"Alt text\" src=\"https://github.com/Maleniski/ing-caracteristicas/raw/main/DiagramasDeBorradorTableroMigrantes/DiagramaPreguntasPorResponder_DatosFrontera.png\" width=\"700\">"
      ],
      "metadata": {
        "id": "nK5N1-MtKtGR"
      }
    },
    {
      "cell_type": "markdown",
      "source": [
        "Se requiere estudiar si podemos realizar las siguientes gráficas.\n",
        "\n",
        "* Descripción general:\n",
        "  * Una agregación de datos para el número de personas localizadas (sin importar si estan vivas o muertas).\n",
        "  * Una gráfica de barras de personas vivas y muertas, separados por sexo.\n",
        "* De los muertos:\n",
        "  * Una gráfica de barras de si fueron identificados.\n",
        "  * Un histograma con las edades.\n",
        "  * Una gráfica de barra de motivos de muerte.\n",
        "  * Una gráfica de barra de tiempo de localización.\n",
        "  * Histograma de año con más muertes.\n",
        "  * Histograma de mes con más muertes.\n",
        "\n",
        "* De los vivos:\n",
        "  * Histograma de la edad.\n",
        "  * Gráfica de barras de sexo.\n",
        "  * Gráfica de barras de nivel educativo.\n",
        "  * Gráfica de barras de personas que duraron menos de 30 días que informe que dependencias las capturaron.\n",
        "  * Servicios que más frecuentemente recibieron los capturados.\n",
        "\n",
        "\n"
      ],
      "metadata": {
        "id": "aygMY3pCM6cP"
      }
    },
    {
      "cell_type": "markdown",
      "source": [
        "Bajamos las librerias necesarias."
      ],
      "metadata": {
        "id": "oTVOpuJhCV67"
      }
    },
    {
      "cell_type": "code",
      "execution_count": 88,
      "metadata": {
        "id": "cEkM4VD4tApw"
      },
      "outputs": [],
      "source": [
        "import pandas as pd\n",
        "import numpy as np\n",
        "import datetime\n",
        "import urllib.request\n",
        "import os\n",
        "from zipfile import ZipFile\n",
        "import seaborn as sns\n",
        "import matplotlib.pyplot as plt\n",
        "import plotly.express as px"
      ]
    },
    {
      "cell_type": "code",
      "source": [
        "pip install wget"
      ],
      "metadata": {
        "colab": {
          "base_uri": "https://localhost:8080/"
        },
        "id": "iZ7pIhTm6A7c",
        "outputId": "b0449dad-8756-4d5e-a257-ca275b7b021f"
      },
      "execution_count": 38,
      "outputs": [
        {
          "output_type": "stream",
          "name": "stdout",
          "text": [
            "Looking in indexes: https://pypi.org/simple, https://us-python.pkg.dev/colab-wheels/public/simple/\n",
            "Requirement already satisfied: wget in /usr/local/lib/python3.7/dist-packages (3.2)\n"
          ]
        }
      ]
    },
    {
      "cell_type": "code",
      "source": [
        "import wget"
      ],
      "metadata": {
        "id": "uO0o_v3G6Ge3"
      },
      "execution_count": 39,
      "outputs": []
    },
    {
      "cell_type": "markdown",
      "source": [
        "Descarga de datos."
      ],
      "metadata": {
        "id": "3u2GGvHwCY0M"
      }
    },
    {
      "cell_type": "code",
      "source": [
        "ARIZONA = pd.read_csv(\"https://raw.githubusercontent.com/Maleniski/ing-caracteristicas/main/FuentesDatosMigrantes/ARIZONA.csv\", index_col=0)\n",
        "CONAPO = pd.read_csv(\"https://raw.githubusercontent.com/Maleniski/ing-caracteristicas/main/FuentesDatosMigrantes/CONAPO.csv\", index_col=0)\n",
        "PMD = pd.read_csv(\"https://raw.githubusercontent.com/Maleniski/ing-caracteristicas/main/FuentesDatosMigrantes/PMD.csv\", index_col=0)\n",
        "\n",
        "wget.download(\"https://github.com/Maleniski/ing-caracteristicas/raw/main/FuentesDatosMigrantes/SEGOB.zip\")\n",
        "\n",
        "with ZipFile(\"SEGOB.zip\") as myzip:\n",
        "    SEGOB = myzip.open(\"SEGOB_V2.csv\")\n",
        "\n",
        "SEGOB = pd.read_csv(SEGOB, index_col=0)\n"
      ],
      "metadata": {
        "colab": {
          "base_uri": "https://localhost:8080/"
        },
        "id": "gPP_gp_c2Jth",
        "outputId": "2f326c4e-b1fc-4361-80be-d157dd95207f"
      },
      "execution_count": 40,
      "outputs": [
        {
          "output_type": "stream",
          "name": "stderr",
          "text": [
            "/usr/local/lib/python3.7/dist-packages/IPython/core/interactiveshell.py:3326: DtypeWarning: Columns (4,66,67,68,69,70,71) have mixed types.Specify dtype option on import or set low_memory=False.\n",
            "  exec(code_obj, self.user_global_ns, self.user_ns)\n"
          ]
        }
      ]
    },
    {
      "cell_type": "markdown",
      "source": [
        "##  Descripción general."
      ],
      "metadata": {
        "id": "36Q1qarJPW3G"
      }
    },
    {
      "cell_type": "markdown",
      "source": [
        "### Una agregación de datos para el número de personas localizadas (sin importar si estan vivas o muertas)."
      ],
      "metadata": {
        "id": "kBmQXq6TPdH3"
      }
    },
    {
      "cell_type": "code",
      "source": [
        "ARIZONA['Reporting Date'] = ARIZONA['Reporting Date'].astype('datetime64[ns]') #casteamos la columna a datetime\n",
        "\n",
        "ARIZONA.head(3)"
      ],
      "metadata": {
        "colab": {
          "base_uri": "https://localhost:8080/",
          "height": 257
        },
        "id": "D453AD52Pffw",
        "outputId": "ea8401d2-f1ea-4b02-83e6-96345402af9d"
      },
      "execution_count": 41,
      "outputs": [
        {
          "output_type": "execute_result",
          "data": {
            "text/plain": [
              "             Name   Sex   Age Reporting Date    Cause of Death  \\\n",
              "0    Unidentified  male   NaN     2000-01-10  Skeletal Remains   \n",
              "1  Nicolas, Tomas  male  17.0     2000-01-22          Exposure   \n",
              "2    Unidentified  male   NaN     2000-01-20  Skeletal Remains   \n",
              "\n",
              "                              OME Determined COD  \\\n",
              "0  UNDETERMINED - MUMMIFIED AND SKELETAL REMAINS   \n",
              "1                                    HYPOTHERMIA   \n",
              "2                UNDETERMINED - SKELETAL REMAINS   \n",
              "\n",
              "                                 Body Condition Post Mortem Interval  \\\n",
              "0              Skeletonization w/ mummification           < 5 weeks    \n",
              "1                                 Fully fleshed              < 1 day   \n",
              "2  Complete skeletonization w/ bone degradation        > 6-8 months    \n",
              "\n",
              "       County  \n",
              "0        YUMA  \n",
              "1        PIMA  \n",
              "2  SANTA CRUZ  "
            ],
            "text/html": [
              "\n",
              "  <div id=\"df-0481cf00-c9ca-4738-b16d-94a525099668\">\n",
              "    <div class=\"colab-df-container\">\n",
              "      <div>\n",
              "<style scoped>\n",
              "    .dataframe tbody tr th:only-of-type {\n",
              "        vertical-align: middle;\n",
              "    }\n",
              "\n",
              "    .dataframe tbody tr th {\n",
              "        vertical-align: top;\n",
              "    }\n",
              "\n",
              "    .dataframe thead th {\n",
              "        text-align: right;\n",
              "    }\n",
              "</style>\n",
              "<table border=\"1\" class=\"dataframe\">\n",
              "  <thead>\n",
              "    <tr style=\"text-align: right;\">\n",
              "      <th></th>\n",
              "      <th>Name</th>\n",
              "      <th>Sex</th>\n",
              "      <th>Age</th>\n",
              "      <th>Reporting Date</th>\n",
              "      <th>Cause of Death</th>\n",
              "      <th>OME Determined COD</th>\n",
              "      <th>Body Condition</th>\n",
              "      <th>Post Mortem Interval</th>\n",
              "      <th>County</th>\n",
              "    </tr>\n",
              "  </thead>\n",
              "  <tbody>\n",
              "    <tr>\n",
              "      <th>0</th>\n",
              "      <td>Unidentified</td>\n",
              "      <td>male</td>\n",
              "      <td>NaN</td>\n",
              "      <td>2000-01-10</td>\n",
              "      <td>Skeletal Remains</td>\n",
              "      <td>UNDETERMINED - MUMMIFIED AND SKELETAL REMAINS</td>\n",
              "      <td>Skeletonization w/ mummification</td>\n",
              "      <td>&lt; 5 weeks</td>\n",
              "      <td>YUMA</td>\n",
              "    </tr>\n",
              "    <tr>\n",
              "      <th>1</th>\n",
              "      <td>Nicolas, Tomas</td>\n",
              "      <td>male</td>\n",
              "      <td>17.0</td>\n",
              "      <td>2000-01-22</td>\n",
              "      <td>Exposure</td>\n",
              "      <td>HYPOTHERMIA</td>\n",
              "      <td>Fully fleshed</td>\n",
              "      <td>&lt; 1 day</td>\n",
              "      <td>PIMA</td>\n",
              "    </tr>\n",
              "    <tr>\n",
              "      <th>2</th>\n",
              "      <td>Unidentified</td>\n",
              "      <td>male</td>\n",
              "      <td>NaN</td>\n",
              "      <td>2000-01-20</td>\n",
              "      <td>Skeletal Remains</td>\n",
              "      <td>UNDETERMINED - SKELETAL REMAINS</td>\n",
              "      <td>Complete skeletonization w/ bone degradation</td>\n",
              "      <td>&gt; 6-8 months</td>\n",
              "      <td>SANTA CRUZ</td>\n",
              "    </tr>\n",
              "  </tbody>\n",
              "</table>\n",
              "</div>\n",
              "      <button class=\"colab-df-convert\" onclick=\"convertToInteractive('df-0481cf00-c9ca-4738-b16d-94a525099668')\"\n",
              "              title=\"Convert this dataframe to an interactive table.\"\n",
              "              style=\"display:none;\">\n",
              "        \n",
              "  <svg xmlns=\"http://www.w3.org/2000/svg\" height=\"24px\"viewBox=\"0 0 24 24\"\n",
              "       width=\"24px\">\n",
              "    <path d=\"M0 0h24v24H0V0z\" fill=\"none\"/>\n",
              "    <path d=\"M18.56 5.44l.94 2.06.94-2.06 2.06-.94-2.06-.94-.94-2.06-.94 2.06-2.06.94zm-11 1L8.5 8.5l.94-2.06 2.06-.94-2.06-.94L8.5 2.5l-.94 2.06-2.06.94zm10 10l.94 2.06.94-2.06 2.06-.94-2.06-.94-.94-2.06-.94 2.06-2.06.94z\"/><path d=\"M17.41 7.96l-1.37-1.37c-.4-.4-.92-.59-1.43-.59-.52 0-1.04.2-1.43.59L10.3 9.45l-7.72 7.72c-.78.78-.78 2.05 0 2.83L4 21.41c.39.39.9.59 1.41.59.51 0 1.02-.2 1.41-.59l7.78-7.78 2.81-2.81c.8-.78.8-2.07 0-2.86zM5.41 20L4 18.59l7.72-7.72 1.47 1.35L5.41 20z\"/>\n",
              "  </svg>\n",
              "      </button>\n",
              "      \n",
              "  <style>\n",
              "    .colab-df-container {\n",
              "      display:flex;\n",
              "      flex-wrap:wrap;\n",
              "      gap: 12px;\n",
              "    }\n",
              "\n",
              "    .colab-df-convert {\n",
              "      background-color: #E8F0FE;\n",
              "      border: none;\n",
              "      border-radius: 50%;\n",
              "      cursor: pointer;\n",
              "      display: none;\n",
              "      fill: #1967D2;\n",
              "      height: 32px;\n",
              "      padding: 0 0 0 0;\n",
              "      width: 32px;\n",
              "    }\n",
              "\n",
              "    .colab-df-convert:hover {\n",
              "      background-color: #E2EBFA;\n",
              "      box-shadow: 0px 1px 2px rgba(60, 64, 67, 0.3), 0px 1px 3px 1px rgba(60, 64, 67, 0.15);\n",
              "      fill: #174EA6;\n",
              "    }\n",
              "\n",
              "    [theme=dark] .colab-df-convert {\n",
              "      background-color: #3B4455;\n",
              "      fill: #D2E3FC;\n",
              "    }\n",
              "\n",
              "    [theme=dark] .colab-df-convert:hover {\n",
              "      background-color: #434B5C;\n",
              "      box-shadow: 0px 1px 3px 1px rgba(0, 0, 0, 0.15);\n",
              "      filter: drop-shadow(0px 1px 2px rgba(0, 0, 0, 0.3));\n",
              "      fill: #FFFFFF;\n",
              "    }\n",
              "  </style>\n",
              "\n",
              "      <script>\n",
              "        const buttonEl =\n",
              "          document.querySelector('#df-0481cf00-c9ca-4738-b16d-94a525099668 button.colab-df-convert');\n",
              "        buttonEl.style.display =\n",
              "          google.colab.kernel.accessAllowed ? 'block' : 'none';\n",
              "\n",
              "        async function convertToInteractive(key) {\n",
              "          const element = document.querySelector('#df-0481cf00-c9ca-4738-b16d-94a525099668');\n",
              "          const dataTable =\n",
              "            await google.colab.kernel.invokeFunction('convertToInteractive',\n",
              "                                                     [key], {});\n",
              "          if (!dataTable) return;\n",
              "\n",
              "          const docLinkHtml = 'Like what you see? Visit the ' +\n",
              "            '<a target=\"_blank\" href=https://colab.research.google.com/notebooks/data_table.ipynb>data table notebook</a>'\n",
              "            + ' to learn more about interactive tables.';\n",
              "          element.innerHTML = '';\n",
              "          dataTable['output_type'] = 'display_data';\n",
              "          await google.colab.output.renderOutput(dataTable, element);\n",
              "          const docLink = document.createElement('div');\n",
              "          docLink.innerHTML = docLinkHtml;\n",
              "          element.appendChild(docLink);\n",
              "        }\n",
              "      </script>\n",
              "    </div>\n",
              "  </div>\n",
              "  "
            ]
          },
          "metadata": {},
          "execution_count": 41
        }
      ]
    },
    {
      "cell_type": "code",
      "source": [
        "PMD.head(2)"
      ],
      "metadata": {
        "colab": {
          "base_uri": "https://localhost:8080/",
          "height": 245
        },
        "id": "0rqivEZwPjHQ",
        "outputId": "d9a500a1-d68a-41d0-fed6-886c5c3d974b"
      },
      "execution_count": 42,
      "outputs": [
        {
          "output_type": "execute_result",
          "data": {
            "text/plain": [
              "         Incident_Date  Year Reported_Month  Number_Dead  \\\n",
              "0  2014-01-06 12:00:00  2014        January            1   \n",
              "1  2014-01-12 12:00:00  2014        January            1   \n",
              "\n",
              "   Total_Number_of_Dead_and_Missing  Number_of_Survivors  Number_of_Females  \\\n",
              "0                                 1                  NaN                NaN   \n",
              "1                                 1                  NaN                NaN   \n",
              "\n",
              "   Number_of_Males  Number_of_Children    Cause_of_Death  \\\n",
              "0              1.0                 NaN  Mixed or unknown   \n",
              "1              NaN                 NaN  Mixed or unknown   \n",
              "\n",
              "                                   Location_of_Death  \n",
              "0  Pima Country Office of the Medical Examiner ju...  \n",
              "1  Pima Country Office of the Medical Examiner ju...  "
            ],
            "text/html": [
              "\n",
              "  <div id=\"df-14f92e29-5bb0-44f4-8bca-df30837aee16\">\n",
              "    <div class=\"colab-df-container\">\n",
              "      <div>\n",
              "<style scoped>\n",
              "    .dataframe tbody tr th:only-of-type {\n",
              "        vertical-align: middle;\n",
              "    }\n",
              "\n",
              "    .dataframe tbody tr th {\n",
              "        vertical-align: top;\n",
              "    }\n",
              "\n",
              "    .dataframe thead th {\n",
              "        text-align: right;\n",
              "    }\n",
              "</style>\n",
              "<table border=\"1\" class=\"dataframe\">\n",
              "  <thead>\n",
              "    <tr style=\"text-align: right;\">\n",
              "      <th></th>\n",
              "      <th>Incident_Date</th>\n",
              "      <th>Year</th>\n",
              "      <th>Reported_Month</th>\n",
              "      <th>Number_Dead</th>\n",
              "      <th>Total_Number_of_Dead_and_Missing</th>\n",
              "      <th>Number_of_Survivors</th>\n",
              "      <th>Number_of_Females</th>\n",
              "      <th>Number_of_Males</th>\n",
              "      <th>Number_of_Children</th>\n",
              "      <th>Cause_of_Death</th>\n",
              "      <th>Location_of_Death</th>\n",
              "    </tr>\n",
              "  </thead>\n",
              "  <tbody>\n",
              "    <tr>\n",
              "      <th>0</th>\n",
              "      <td>2014-01-06 12:00:00</td>\n",
              "      <td>2014</td>\n",
              "      <td>January</td>\n",
              "      <td>1</td>\n",
              "      <td>1</td>\n",
              "      <td>NaN</td>\n",
              "      <td>NaN</td>\n",
              "      <td>1.0</td>\n",
              "      <td>NaN</td>\n",
              "      <td>Mixed or unknown</td>\n",
              "      <td>Pima Country Office of the Medical Examiner ju...</td>\n",
              "    </tr>\n",
              "    <tr>\n",
              "      <th>1</th>\n",
              "      <td>2014-01-12 12:00:00</td>\n",
              "      <td>2014</td>\n",
              "      <td>January</td>\n",
              "      <td>1</td>\n",
              "      <td>1</td>\n",
              "      <td>NaN</td>\n",
              "      <td>NaN</td>\n",
              "      <td>NaN</td>\n",
              "      <td>NaN</td>\n",
              "      <td>Mixed or unknown</td>\n",
              "      <td>Pima Country Office of the Medical Examiner ju...</td>\n",
              "    </tr>\n",
              "  </tbody>\n",
              "</table>\n",
              "</div>\n",
              "      <button class=\"colab-df-convert\" onclick=\"convertToInteractive('df-14f92e29-5bb0-44f4-8bca-df30837aee16')\"\n",
              "              title=\"Convert this dataframe to an interactive table.\"\n",
              "              style=\"display:none;\">\n",
              "        \n",
              "  <svg xmlns=\"http://www.w3.org/2000/svg\" height=\"24px\"viewBox=\"0 0 24 24\"\n",
              "       width=\"24px\">\n",
              "    <path d=\"M0 0h24v24H0V0z\" fill=\"none\"/>\n",
              "    <path d=\"M18.56 5.44l.94 2.06.94-2.06 2.06-.94-2.06-.94-.94-2.06-.94 2.06-2.06.94zm-11 1L8.5 8.5l.94-2.06 2.06-.94-2.06-.94L8.5 2.5l-.94 2.06-2.06.94zm10 10l.94 2.06.94-2.06 2.06-.94-2.06-.94-.94-2.06-.94 2.06-2.06.94z\"/><path d=\"M17.41 7.96l-1.37-1.37c-.4-.4-.92-.59-1.43-.59-.52 0-1.04.2-1.43.59L10.3 9.45l-7.72 7.72c-.78.78-.78 2.05 0 2.83L4 21.41c.39.39.9.59 1.41.59.51 0 1.02-.2 1.41-.59l7.78-7.78 2.81-2.81c.8-.78.8-2.07 0-2.86zM5.41 20L4 18.59l7.72-7.72 1.47 1.35L5.41 20z\"/>\n",
              "  </svg>\n",
              "      </button>\n",
              "      \n",
              "  <style>\n",
              "    .colab-df-container {\n",
              "      display:flex;\n",
              "      flex-wrap:wrap;\n",
              "      gap: 12px;\n",
              "    }\n",
              "\n",
              "    .colab-df-convert {\n",
              "      background-color: #E8F0FE;\n",
              "      border: none;\n",
              "      border-radius: 50%;\n",
              "      cursor: pointer;\n",
              "      display: none;\n",
              "      fill: #1967D2;\n",
              "      height: 32px;\n",
              "      padding: 0 0 0 0;\n",
              "      width: 32px;\n",
              "    }\n",
              "\n",
              "    .colab-df-convert:hover {\n",
              "      background-color: #E2EBFA;\n",
              "      box-shadow: 0px 1px 2px rgba(60, 64, 67, 0.3), 0px 1px 3px 1px rgba(60, 64, 67, 0.15);\n",
              "      fill: #174EA6;\n",
              "    }\n",
              "\n",
              "    [theme=dark] .colab-df-convert {\n",
              "      background-color: #3B4455;\n",
              "      fill: #D2E3FC;\n",
              "    }\n",
              "\n",
              "    [theme=dark] .colab-df-convert:hover {\n",
              "      background-color: #434B5C;\n",
              "      box-shadow: 0px 1px 3px 1px rgba(0, 0, 0, 0.15);\n",
              "      filter: drop-shadow(0px 1px 2px rgba(0, 0, 0, 0.3));\n",
              "      fill: #FFFFFF;\n",
              "    }\n",
              "  </style>\n",
              "\n",
              "      <script>\n",
              "        const buttonEl =\n",
              "          document.querySelector('#df-14f92e29-5bb0-44f4-8bca-df30837aee16 button.colab-df-convert');\n",
              "        buttonEl.style.display =\n",
              "          google.colab.kernel.accessAllowed ? 'block' : 'none';\n",
              "\n",
              "        async function convertToInteractive(key) {\n",
              "          const element = document.querySelector('#df-14f92e29-5bb0-44f4-8bca-df30837aee16');\n",
              "          const dataTable =\n",
              "            await google.colab.kernel.invokeFunction('convertToInteractive',\n",
              "                                                     [key], {});\n",
              "          if (!dataTable) return;\n",
              "\n",
              "          const docLinkHtml = 'Like what you see? Visit the ' +\n",
              "            '<a target=\"_blank\" href=https://colab.research.google.com/notebooks/data_table.ipynb>data table notebook</a>'\n",
              "            + ' to learn more about interactive tables.';\n",
              "          element.innerHTML = '';\n",
              "          dataTable['output_type'] = 'display_data';\n",
              "          await google.colab.output.renderOutput(dataTable, element);\n",
              "          const docLink = document.createElement('div');\n",
              "          docLink.innerHTML = docLinkHtml;\n",
              "          element.appendChild(docLink);\n",
              "        }\n",
              "      </script>\n",
              "    </div>\n",
              "  </div>\n",
              "  "
            ]
          },
          "metadata": {},
          "execution_count": 42
        }
      ]
    },
    {
      "cell_type": "code",
      "source": [
        "SEGOB = SEGOB[SEGOB[\"EDO_DET_parsed\"]==\"Arizona\"]\n",
        "SEGOB['FEC_REP'] = SEGOB['FEC_REP'].astype('datetime64[ns]')\n",
        "SEGOB.head(2)"
      ],
      "metadata": {
        "colab": {
          "base_uri": "https://localhost:8080/",
          "height": 240
        },
        "id": "RXfZevjVPt5k",
        "outputId": "09181ade-b499-45a9-a69e-247341277db0"
      },
      "execution_count": 43,
      "outputs": [
        {
          "output_type": "execute_result",
          "data": {
            "text/plain": [
              "   DEL    FEC_REP  CLASIF_REP       IRE  SEXO  EDA  EN_NAC  NIV_ESC  ACOM_REP  \\\n",
              "0   26 2016-06-06           1  16000001     1  100      14        7         3   \n",
              "1   26 2016-01-22           1  16000002     1   99      21        5         3   \n",
              "\n",
              "   PERM_EU  ...  APO_VES_parsed  APO_ACT_NAC_parsed  APO_TRASF_parsed  \\\n",
              "0        1  ...              No                  No               NaN   \n",
              "1        1  ...              No                  No               NaN   \n",
              "\n",
              "   APO_CURP_parsed  APO_ASF_parsed  APO_AME_parsed  APO_REC_PERT_parsed  \\\n",
              "0              NaN             NaN             NaN                  NaN   \n",
              "1              NaN             NaN             NaN                  NaN   \n",
              "\n",
              "   APO_AT_MEDICA_parsed  MUN_NAC_parsed         MUN_DES_parsed  \n",
              "0                   NaN             NaN  Puerto Vallarta, Jal.  \n",
              "1                   NaN             NaN           Puebla, Pue.  \n",
              "\n",
              "[2 rows x 72 columns]"
            ],
            "text/html": [
              "\n",
              "  <div id=\"df-195a7648-470b-42c5-a5fd-ca2af44d333d\">\n",
              "    <div class=\"colab-df-container\">\n",
              "      <div>\n",
              "<style scoped>\n",
              "    .dataframe tbody tr th:only-of-type {\n",
              "        vertical-align: middle;\n",
              "    }\n",
              "\n",
              "    .dataframe tbody tr th {\n",
              "        vertical-align: top;\n",
              "    }\n",
              "\n",
              "    .dataframe thead th {\n",
              "        text-align: right;\n",
              "    }\n",
              "</style>\n",
              "<table border=\"1\" class=\"dataframe\">\n",
              "  <thead>\n",
              "    <tr style=\"text-align: right;\">\n",
              "      <th></th>\n",
              "      <th>DEL</th>\n",
              "      <th>FEC_REP</th>\n",
              "      <th>CLASIF_REP</th>\n",
              "      <th>IRE</th>\n",
              "      <th>SEXO</th>\n",
              "      <th>EDA</th>\n",
              "      <th>EN_NAC</th>\n",
              "      <th>NIV_ESC</th>\n",
              "      <th>ACOM_REP</th>\n",
              "      <th>PERM_EU</th>\n",
              "      <th>...</th>\n",
              "      <th>APO_VES_parsed</th>\n",
              "      <th>APO_ACT_NAC_parsed</th>\n",
              "      <th>APO_TRASF_parsed</th>\n",
              "      <th>APO_CURP_parsed</th>\n",
              "      <th>APO_ASF_parsed</th>\n",
              "      <th>APO_AME_parsed</th>\n",
              "      <th>APO_REC_PERT_parsed</th>\n",
              "      <th>APO_AT_MEDICA_parsed</th>\n",
              "      <th>MUN_NAC_parsed</th>\n",
              "      <th>MUN_DES_parsed</th>\n",
              "    </tr>\n",
              "  </thead>\n",
              "  <tbody>\n",
              "    <tr>\n",
              "      <th>0</th>\n",
              "      <td>26</td>\n",
              "      <td>2016-06-06</td>\n",
              "      <td>1</td>\n",
              "      <td>16000001</td>\n",
              "      <td>1</td>\n",
              "      <td>100</td>\n",
              "      <td>14</td>\n",
              "      <td>7</td>\n",
              "      <td>3</td>\n",
              "      <td>1</td>\n",
              "      <td>...</td>\n",
              "      <td>No</td>\n",
              "      <td>No</td>\n",
              "      <td>NaN</td>\n",
              "      <td>NaN</td>\n",
              "      <td>NaN</td>\n",
              "      <td>NaN</td>\n",
              "      <td>NaN</td>\n",
              "      <td>NaN</td>\n",
              "      <td>NaN</td>\n",
              "      <td>Puerto Vallarta, Jal.</td>\n",
              "    </tr>\n",
              "    <tr>\n",
              "      <th>1</th>\n",
              "      <td>26</td>\n",
              "      <td>2016-01-22</td>\n",
              "      <td>1</td>\n",
              "      <td>16000002</td>\n",
              "      <td>1</td>\n",
              "      <td>99</td>\n",
              "      <td>21</td>\n",
              "      <td>5</td>\n",
              "      <td>3</td>\n",
              "      <td>1</td>\n",
              "      <td>...</td>\n",
              "      <td>No</td>\n",
              "      <td>No</td>\n",
              "      <td>NaN</td>\n",
              "      <td>NaN</td>\n",
              "      <td>NaN</td>\n",
              "      <td>NaN</td>\n",
              "      <td>NaN</td>\n",
              "      <td>NaN</td>\n",
              "      <td>NaN</td>\n",
              "      <td>Puebla, Pue.</td>\n",
              "    </tr>\n",
              "  </tbody>\n",
              "</table>\n",
              "<p>2 rows × 72 columns</p>\n",
              "</div>\n",
              "      <button class=\"colab-df-convert\" onclick=\"convertToInteractive('df-195a7648-470b-42c5-a5fd-ca2af44d333d')\"\n",
              "              title=\"Convert this dataframe to an interactive table.\"\n",
              "              style=\"display:none;\">\n",
              "        \n",
              "  <svg xmlns=\"http://www.w3.org/2000/svg\" height=\"24px\"viewBox=\"0 0 24 24\"\n",
              "       width=\"24px\">\n",
              "    <path d=\"M0 0h24v24H0V0z\" fill=\"none\"/>\n",
              "    <path d=\"M18.56 5.44l.94 2.06.94-2.06 2.06-.94-2.06-.94-.94-2.06-.94 2.06-2.06.94zm-11 1L8.5 8.5l.94-2.06 2.06-.94-2.06-.94L8.5 2.5l-.94 2.06-2.06.94zm10 10l.94 2.06.94-2.06 2.06-.94-2.06-.94-.94-2.06-.94 2.06-2.06.94z\"/><path d=\"M17.41 7.96l-1.37-1.37c-.4-.4-.92-.59-1.43-.59-.52 0-1.04.2-1.43.59L10.3 9.45l-7.72 7.72c-.78.78-.78 2.05 0 2.83L4 21.41c.39.39.9.59 1.41.59.51 0 1.02-.2 1.41-.59l7.78-7.78 2.81-2.81c.8-.78.8-2.07 0-2.86zM5.41 20L4 18.59l7.72-7.72 1.47 1.35L5.41 20z\"/>\n",
              "  </svg>\n",
              "      </button>\n",
              "      \n",
              "  <style>\n",
              "    .colab-df-container {\n",
              "      display:flex;\n",
              "      flex-wrap:wrap;\n",
              "      gap: 12px;\n",
              "    }\n",
              "\n",
              "    .colab-df-convert {\n",
              "      background-color: #E8F0FE;\n",
              "      border: none;\n",
              "      border-radius: 50%;\n",
              "      cursor: pointer;\n",
              "      display: none;\n",
              "      fill: #1967D2;\n",
              "      height: 32px;\n",
              "      padding: 0 0 0 0;\n",
              "      width: 32px;\n",
              "    }\n",
              "\n",
              "    .colab-df-convert:hover {\n",
              "      background-color: #E2EBFA;\n",
              "      box-shadow: 0px 1px 2px rgba(60, 64, 67, 0.3), 0px 1px 3px 1px rgba(60, 64, 67, 0.15);\n",
              "      fill: #174EA6;\n",
              "    }\n",
              "\n",
              "    [theme=dark] .colab-df-convert {\n",
              "      background-color: #3B4455;\n",
              "      fill: #D2E3FC;\n",
              "    }\n",
              "\n",
              "    [theme=dark] .colab-df-convert:hover {\n",
              "      background-color: #434B5C;\n",
              "      box-shadow: 0px 1px 3px 1px rgba(0, 0, 0, 0.15);\n",
              "      filter: drop-shadow(0px 1px 2px rgba(0, 0, 0, 0.3));\n",
              "      fill: #FFFFFF;\n",
              "    }\n",
              "  </style>\n",
              "\n",
              "      <script>\n",
              "        const buttonEl =\n",
              "          document.querySelector('#df-195a7648-470b-42c5-a5fd-ca2af44d333d button.colab-df-convert');\n",
              "        buttonEl.style.display =\n",
              "          google.colab.kernel.accessAllowed ? 'block' : 'none';\n",
              "\n",
              "        async function convertToInteractive(key) {\n",
              "          const element = document.querySelector('#df-195a7648-470b-42c5-a5fd-ca2af44d333d');\n",
              "          const dataTable =\n",
              "            await google.colab.kernel.invokeFunction('convertToInteractive',\n",
              "                                                     [key], {});\n",
              "          if (!dataTable) return;\n",
              "\n",
              "          const docLinkHtml = 'Like what you see? Visit the ' +\n",
              "            '<a target=\"_blank\" href=https://colab.research.google.com/notebooks/data_table.ipynb>data table notebook</a>'\n",
              "            + ' to learn more about interactive tables.';\n",
              "          element.innerHTML = '';\n",
              "          dataTable['output_type'] = 'display_data';\n",
              "          await google.colab.output.renderOutput(dataTable, element);\n",
              "          const docLink = document.createElement('div');\n",
              "          docLink.innerHTML = docLinkHtml;\n",
              "          element.appendChild(docLink);\n",
              "        }\n",
              "      </script>\n",
              "    </div>\n",
              "  </div>\n",
              "  "
            ]
          },
          "metadata": {},
          "execution_count": 43
        }
      ]
    },
    {
      "cell_type": "markdown",
      "source": [
        "Las fechas de la tabla SEGOB van del 2016-01-01 al 2021-12-31.\n",
        "\n",
        "En la tabla SEGOB hay una columna llamada PERM_EU_parsed que nos permite conocer las personas que duraron de 0 a 30 días, que supondremos que son personas que no lograron cruzar a la frontera."
      ],
      "metadata": {
        "id": "rcFv96NvP4mM"
      }
    },
    {
      "cell_type": "code",
      "source": [
        "SEGOB.groupby(\"PERM_EU_parsed\").count()[\"DEL\"].sort_values(ascending=False).plot.bar()"
      ],
      "metadata": {
        "colab": {
          "base_uri": "https://localhost:8080/",
          "height": 366
        },
        "id": "WnLFVBiAP2pF",
        "outputId": "51347bb0-d38b-4acc-b9e0-22ee2afffb75"
      },
      "execution_count": 44,
      "outputs": [
        {
          "output_type": "execute_result",
          "data": {
            "text/plain": [
              "<matplotlib.axes._subplots.AxesSubplot at 0x7fb5753de710>"
            ]
          },
          "metadata": {},
          "execution_count": 44
        },
        {
          "output_type": "display_data",
          "data": {
            "text/plain": [
              "<Figure size 432x288 with 1 Axes>"
            ],
            "image/png": "[encoded data removed]"
          },
          "metadata": {
            "needs_background": "light"
          }
        }
      ]
    },
    {
      "cell_type": "markdown",
      "source": [
        "De hecho, las personas de 0 a 30 días son la mayoría."
      ],
      "metadata": {
        "id": "RiUhqjzXRIb0"
      }
    },
    {
      "cell_type": "code",
      "source": [
        "loc_vivas=SEGOB.groupby(\"PERM_EU_parsed\").count()[\"DEL\"].loc[\"De 0 a 30 días\"]\n",
        "print(\"El número de personas localizadas vivas al intentar cruzar la frontera es de \"+str(loc_vivas)+\".\")"
      ],
      "metadata": {
        "colab": {
          "base_uri": "https://localhost:8080/"
        },
        "id": "xcz_tUy4QtZD",
        "outputId": "ba030f52-45a4-4dcd-92dd-4a277773c104"
      },
      "execution_count": 45,
      "outputs": [
        {
          "output_type": "stream",
          "name": "stdout",
          "text": [
            "El número de personas localizadas vivas al intentar cruzar la frontera es de 170615.\n"
          ]
        }
      ]
    },
    {
      "cell_type": "markdown",
      "source": [
        "En la tabla ARIZONA podemos contar cuantas personas fueron las localizadas muertas al intentar cruzar la frontera. Hay que tener en consideración que la tabla ARIZONA tiene un registro mucho más amplio a partir del año 2000. Hay que restringir los datos para que las comparaciones sean justas a las fechas 2016-01-01 al 2021-12-31."
      ],
      "metadata": {
        "id": "x6xutCw4Rhg8"
      }
    },
    {
      "cell_type": "code",
      "source": [
        "loc_muertas=ARIZONA[(ARIZONA[\"Reporting Date\"]>=\"2016-01-01\") & (ARIZONA[\"Reporting Date\"]>\"2021-12-31\")].shape[0]\n",
        "print(\"El número de personas localizadas muertas al intentar cruzar la frontera es de \"+str(loc_muertas)+\".\")"
      ],
      "metadata": {
        "colab": {
          "base_uri": "https://localhost:8080/"
        },
        "id": "i3D6FZgnRhMj",
        "outputId": "1ef89239-e015-4f50-d587-83f97ab7c97d"
      },
      "execution_count": 109,
      "outputs": [
        {
          "output_type": "stream",
          "name": "stdout",
          "text": [
            "El número de personas localizadas muertas al intentar cruzar la frontera es de 151.\n"
          ]
        }
      ]
    },
    {
      "cell_type": "code",
      "source": [
        "vivos_muertos = {'loc_vivos': [loc_vivas], 'loc_muertos': [loc_muertas]}\n",
        "vivos_muertos = pd.DataFrame(data=vivos_muertos)\n",
        "vivos_muertos"
      ],
      "metadata": {
        "colab": {
          "base_uri": "https://localhost:8080/",
          "height": 81
        },
        "id": "Cg3bS-PiTaIv",
        "outputId": "1b3e8702-3a76-4c7f-a4f3-ffa04ed5f223"
      },
      "execution_count": 47,
      "outputs": [
        {
          "output_type": "execute_result",
          "data": {
            "text/plain": [
              "   loc_vivos  loc_muertos\n",
              "0     170615          151"
            ],
            "text/html": [
              "\n",
              "  <div id=\"df-cc5e8182-effa-4d0d-ae25-7c0be29ee357\">\n",
              "    <div class=\"colab-df-container\">\n",
              "      <div>\n",
              "<style scoped>\n",
              "    .dataframe tbody tr th:only-of-type {\n",
              "        vertical-align: middle;\n",
              "    }\n",
              "\n",
              "    .dataframe tbody tr th {\n",
              "        vertical-align: top;\n",
              "    }\n",
              "\n",
              "    .dataframe thead th {\n",
              "        text-align: right;\n",
              "    }\n",
              "</style>\n",
              "<table border=\"1\" class=\"dataframe\">\n",
              "  <thead>\n",
              "    <tr style=\"text-align: right;\">\n",
              "      <th></th>\n",
              "      <th>loc_vivos</th>\n",
              "      <th>loc_muertos</th>\n",
              "    </tr>\n",
              "  </thead>\n",
              "  <tbody>\n",
              "    <tr>\n",
              "      <th>0</th>\n",
              "      <td>170615</td>\n",
              "      <td>151</td>\n",
              "    </tr>\n",
              "  </tbody>\n",
              "</table>\n",
              "</div>\n",
              "      <button class=\"colab-df-convert\" onclick=\"convertToInteractive('df-cc5e8182-effa-4d0d-ae25-7c0be29ee357')\"\n",
              "              title=\"Convert this dataframe to an interactive table.\"\n",
              "              style=\"display:none;\">\n",
              "        \n",
              "  <svg xmlns=\"http://www.w3.org/2000/svg\" height=\"24px\"viewBox=\"0 0 24 24\"\n",
              "       width=\"24px\">\n",
              "    <path d=\"M0 0h24v24H0V0z\" fill=\"none\"/>\n",
              "    <path d=\"M18.56 5.44l.94 2.06.94-2.06 2.06-.94-2.06-.94-.94-2.06-.94 2.06-2.06.94zm-11 1L8.5 8.5l.94-2.06 2.06-.94-2.06-.94L8.5 2.5l-.94 2.06-2.06.94zm10 10l.94 2.06.94-2.06 2.06-.94-2.06-.94-.94-2.06-.94 2.06-2.06.94z\"/><path d=\"M17.41 7.96l-1.37-1.37c-.4-.4-.92-.59-1.43-.59-.52 0-1.04.2-1.43.59L10.3 9.45l-7.72 7.72c-.78.78-.78 2.05 0 2.83L4 21.41c.39.39.9.59 1.41.59.51 0 1.02-.2 1.41-.59l7.78-7.78 2.81-2.81c.8-.78.8-2.07 0-2.86zM5.41 20L4 18.59l7.72-7.72 1.47 1.35L5.41 20z\"/>\n",
              "  </svg>\n",
              "      </button>\n",
              "      \n",
              "  <style>\n",
              "    .colab-df-container {\n",
              "      display:flex;\n",
              "      flex-wrap:wrap;\n",
              "      gap: 12px;\n",
              "    }\n",
              "\n",
              "    .colab-df-convert {\n",
              "      background-color: #E8F0FE;\n",
              "      border: none;\n",
              "      border-radius: 50%;\n",
              "      cursor: pointer;\n",
              "      display: none;\n",
              "      fill: #1967D2;\n",
              "      height: 32px;\n",
              "      padding: 0 0 0 0;\n",
              "      width: 32px;\n",
              "    }\n",
              "\n",
              "    .colab-df-convert:hover {\n",
              "      background-color: #E2EBFA;\n",
              "      box-shadow: 0px 1px 2px rgba(60, 64, 67, 0.3), 0px 1px 3px 1px rgba(60, 64, 67, 0.15);\n",
              "      fill: #174EA6;\n",
              "    }\n",
              "\n",
              "    [theme=dark] .colab-df-convert {\n",
              "      background-color: #3B4455;\n",
              "      fill: #D2E3FC;\n",
              "    }\n",
              "\n",
              "    [theme=dark] .colab-df-convert:hover {\n",
              "      background-color: #434B5C;\n",
              "      box-shadow: 0px 1px 3px 1px rgba(0, 0, 0, 0.15);\n",
              "      filter: drop-shadow(0px 1px 2px rgba(0, 0, 0, 0.3));\n",
              "      fill: #FFFFFF;\n",
              "    }\n",
              "  </style>\n",
              "\n",
              "      <script>\n",
              "        const buttonEl =\n",
              "          document.querySelector('#df-cc5e8182-effa-4d0d-ae25-7c0be29ee357 button.colab-df-convert');\n",
              "        buttonEl.style.display =\n",
              "          google.colab.kernel.accessAllowed ? 'block' : 'none';\n",
              "\n",
              "        async function convertToInteractive(key) {\n",
              "          const element = document.querySelector('#df-cc5e8182-effa-4d0d-ae25-7c0be29ee357');\n",
              "          const dataTable =\n",
              "            await google.colab.kernel.invokeFunction('convertToInteractive',\n",
              "                                                     [key], {});\n",
              "          if (!dataTable) return;\n",
              "\n",
              "          const docLinkHtml = 'Like what you see? Visit the ' +\n",
              "            '<a target=\"_blank\" href=https://colab.research.google.com/notebooks/data_table.ipynb>data table notebook</a>'\n",
              "            + ' to learn more about interactive tables.';\n",
              "          element.innerHTML = '';\n",
              "          dataTable['output_type'] = 'display_data';\n",
              "          await google.colab.output.renderOutput(dataTable, element);\n",
              "          const docLink = document.createElement('div');\n",
              "          docLink.innerHTML = docLinkHtml;\n",
              "          element.appendChild(docLink);\n",
              "        }\n",
              "      </script>\n",
              "    </div>\n",
              "  </div>\n",
              "  "
            ]
          },
          "metadata": {},
          "execution_count": 47
        }
      ]
    },
    {
      "cell_type": "code",
      "source": [
        "vivos_muertos.plot.bar()"
      ],
      "metadata": {
        "colab": {
          "base_uri": "https://localhost:8080/",
          "height": 279
        },
        "id": "bMp2E0-_ToOh",
        "outputId": "8aa70425-612a-42d5-e1a6-aba7b3ce898b"
      },
      "execution_count": 48,
      "outputs": [
        {
          "output_type": "execute_result",
          "data": {
            "text/plain": [
              "<matplotlib.axes._subplots.AxesSubplot at 0x7fb575145310>"
            ]
          },
          "metadata": {},
          "execution_count": 48
        },
        {
          "output_type": "display_data",
          "data": {
            "text/plain": [
              "<Figure size 432x288 with 1 Axes>"
            ],
            "image/png": "[encoded data removed]"
          },
          "metadata": {
            "needs_background": "light"
          }
        }
      ]
    },
    {
      "cell_type": "markdown",
      "source": [
        "### Una gráfica de barras de personas vivas y muertas, separados por sexo."
      ],
      "metadata": {
        "id": "XnmpHTvST7oz"
      }
    },
    {
      "cell_type": "code",
      "source": [
        "vivos_sex=(SEGOB[SEGOB[\"PERM_EU_parsed\"]==\"De 0 a 30 días\"]\n",
        "        .groupby(\"SEXO_parsed\")\n",
        "        .count()[\"DEL\"])\n",
        "vivos_sex"
      ],
      "metadata": {
        "colab": {
          "base_uri": "https://localhost:8080/"
        },
        "id": "B7gea8JdUDJJ",
        "outputId": "0125d9cd-1148-4ef6-d68a-74b965d0d780"
      },
      "execution_count": 49,
      "outputs": [
        {
          "output_type": "execute_result",
          "data": {
            "text/plain": [
              "SEXO_parsed\n",
              "Hombre    150995\n",
              "Mujer      19620\n",
              "Name: DEL, dtype: int64"
            ]
          },
          "metadata": {},
          "execution_count": 49
        }
      ]
    },
    {
      "cell_type": "code",
      "source": [
        "muertos_sex=(ARIZONA[(ARIZONA[\"Reporting Date\"]>=\"2016-01-01\") & (ARIZONA[\"Reporting Date\"]<=\"2021-12-31\")]\n",
        "        .groupby(\"Sex\")\n",
        "        .count()[\"Name\"])\n",
        "muertos_sex"
      ],
      "metadata": {
        "colab": {
          "base_uri": "https://localhost:8080/"
        },
        "id": "k4TNgtXzUXTo",
        "outputId": "4759832a-4920-4fc3-8a06-b176e423ebf1"
      },
      "execution_count": 110,
      "outputs": [
        {
          "output_type": "execute_result",
          "data": {
            "text/plain": [
              "Sex\n",
              "female           86\n",
              "male            865\n",
              "undetermined     54\n",
              "Name: Name, dtype: int64"
            ]
          },
          "metadata": {},
          "execution_count": 110
        }
      ]
    },
    {
      "cell_type": "markdown",
      "source": [
        "Actualizamos la tabla vivos_muertos, para tener los datos separados por sexo."
      ],
      "metadata": {
        "id": "XirE2pDNUq-V"
      }
    },
    {
      "cell_type": "code",
      "source": [
        "vivos_muertos = ({\"Sexo\":[\"Hombres\", \"Mujeres\"],\n",
        "                  'loc_vivos': [vivos_sex.loc[\"Hombre\"],vivos_sex.loc[\"Mujer\"]], \n",
        "                  'loc_muertos': [muertos_sex.loc[\"male\"], muertos_sex.loc[\"female\"]]})\n",
        "vivos_muertos = pd.DataFrame(data=vivos_muertos)\n",
        "vivos_muertos"
      ],
      "metadata": {
        "colab": {
          "base_uri": "https://localhost:8080/",
          "height": 112
        },
        "id": "XN21NkY4UqnZ",
        "outputId": "b8a808b5-8d5d-4450-dcde-d789cb1ce688"
      },
      "execution_count": 51,
      "outputs": [
        {
          "output_type": "execute_result",
          "data": {
            "text/plain": [
              "      Sexo  loc_vivos  loc_muertos\n",
              "0  Hombres     150995          865\n",
              "1  Mujeres      19620           86"
            ],
            "text/html": [
              "\n",
              "  <div id=\"df-721ea3e4-406c-48ad-9aca-859929b78430\">\n",
              "    <div class=\"colab-df-container\">\n",
              "      <div>\n",
              "<style scoped>\n",
              "    .dataframe tbody tr th:only-of-type {\n",
              "        vertical-align: middle;\n",
              "    }\n",
              "\n",
              "    .dataframe tbody tr th {\n",
              "        vertical-align: top;\n",
              "    }\n",
              "\n",
              "    .dataframe thead th {\n",
              "        text-align: right;\n",
              "    }\n",
              "</style>\n",
              "<table border=\"1\" class=\"dataframe\">\n",
              "  <thead>\n",
              "    <tr style=\"text-align: right;\">\n",
              "      <th></th>\n",
              "      <th>Sexo</th>\n",
              "      <th>loc_vivos</th>\n",
              "      <th>loc_muertos</th>\n",
              "    </tr>\n",
              "  </thead>\n",
              "  <tbody>\n",
              "    <tr>\n",
              "      <th>0</th>\n",
              "      <td>Hombres</td>\n",
              "      <td>150995</td>\n",
              "      <td>865</td>\n",
              "    </tr>\n",
              "    <tr>\n",
              "      <th>1</th>\n",
              "      <td>Mujeres</td>\n",
              "      <td>19620</td>\n",
              "      <td>86</td>\n",
              "    </tr>\n",
              "  </tbody>\n",
              "</table>\n",
              "</div>\n",
              "      <button class=\"colab-df-convert\" onclick=\"convertToInteractive('df-721ea3e4-406c-48ad-9aca-859929b78430')\"\n",
              "              title=\"Convert this dataframe to an interactive table.\"\n",
              "              style=\"display:none;\">\n",
              "        \n",
              "  <svg xmlns=\"http://www.w3.org/2000/svg\" height=\"24px\"viewBox=\"0 0 24 24\"\n",
              "       width=\"24px\">\n",
              "    <path d=\"M0 0h24v24H0V0z\" fill=\"none\"/>\n",
              "    <path d=\"M18.56 5.44l.94 2.06.94-2.06 2.06-.94-2.06-.94-.94-2.06-.94 2.06-2.06.94zm-11 1L8.5 8.5l.94-2.06 2.06-.94-2.06-.94L8.5 2.5l-.94 2.06-2.06.94zm10 10l.94 2.06.94-2.06 2.06-.94-2.06-.94-.94-2.06-.94 2.06-2.06.94z\"/><path d=\"M17.41 7.96l-1.37-1.37c-.4-.4-.92-.59-1.43-.59-.52 0-1.04.2-1.43.59L10.3 9.45l-7.72 7.72c-.78.78-.78 2.05 0 2.83L4 21.41c.39.39.9.59 1.41.59.51 0 1.02-.2 1.41-.59l7.78-7.78 2.81-2.81c.8-.78.8-2.07 0-2.86zM5.41 20L4 18.59l7.72-7.72 1.47 1.35L5.41 20z\"/>\n",
              "  </svg>\n",
              "      </button>\n",
              "      \n",
              "  <style>\n",
              "    .colab-df-container {\n",
              "      display:flex;\n",
              "      flex-wrap:wrap;\n",
              "      gap: 12px;\n",
              "    }\n",
              "\n",
              "    .colab-df-convert {\n",
              "      background-color: #E8F0FE;\n",
              "      border: none;\n",
              "      border-radius: 50%;\n",
              "      cursor: pointer;\n",
              "      display: none;\n",
              "      fill: #1967D2;\n",
              "      height: 32px;\n",
              "      padding: 0 0 0 0;\n",
              "      width: 32px;\n",
              "    }\n",
              "\n",
              "    .colab-df-convert:hover {\n",
              "      background-color: #E2EBFA;\n",
              "      box-shadow: 0px 1px 2px rgba(60, 64, 67, 0.3), 0px 1px 3px 1px rgba(60, 64, 67, 0.15);\n",
              "      fill: #174EA6;\n",
              "    }\n",
              "\n",
              "    [theme=dark] .colab-df-convert {\n",
              "      background-color: #3B4455;\n",
              "      fill: #D2E3FC;\n",
              "    }\n",
              "\n",
              "    [theme=dark] .colab-df-convert:hover {\n",
              "      background-color: #434B5C;\n",
              "      box-shadow: 0px 1px 3px 1px rgba(0, 0, 0, 0.15);\n",
              "      filter: drop-shadow(0px 1px 2px rgba(0, 0, 0, 0.3));\n",
              "      fill: #FFFFFF;\n",
              "    }\n",
              "  </style>\n",
              "\n",
              "      <script>\n",
              "        const buttonEl =\n",
              "          document.querySelector('#df-721ea3e4-406c-48ad-9aca-859929b78430 button.colab-df-convert');\n",
              "        buttonEl.style.display =\n",
              "          google.colab.kernel.accessAllowed ? 'block' : 'none';\n",
              "\n",
              "        async function convertToInteractive(key) {\n",
              "          const element = document.querySelector('#df-721ea3e4-406c-48ad-9aca-859929b78430');\n",
              "          const dataTable =\n",
              "            await google.colab.kernel.invokeFunction('convertToInteractive',\n",
              "                                                     [key], {});\n",
              "          if (!dataTable) return;\n",
              "\n",
              "          const docLinkHtml = 'Like what you see? Visit the ' +\n",
              "            '<a target=\"_blank\" href=https://colab.research.google.com/notebooks/data_table.ipynb>data table notebook</a>'\n",
              "            + ' to learn more about interactive tables.';\n",
              "          element.innerHTML = '';\n",
              "          dataTable['output_type'] = 'display_data';\n",
              "          await google.colab.output.renderOutput(dataTable, element);\n",
              "          const docLink = document.createElement('div');\n",
              "          docLink.innerHTML = docLinkHtml;\n",
              "          element.appendChild(docLink);\n",
              "        }\n",
              "      </script>\n",
              "    </div>\n",
              "  </div>\n",
              "  "
            ]
          },
          "metadata": {},
          "execution_count": 51
        }
      ]
    },
    {
      "cell_type": "code",
      "source": [
        "sns.barplot(data=vivos_muertos, x=\"Sexo\", y=\"loc_vivos\")"
      ],
      "metadata": {
        "colab": {
          "base_uri": "https://localhost:8080/",
          "height": 296
        },
        "id": "SFkEviBnWCZY",
        "outputId": "334d408c-ae1e-4230-8e22-60a27361958c"
      },
      "execution_count": 52,
      "outputs": [
        {
          "output_type": "execute_result",
          "data": {
            "text/plain": [
              "<matplotlib.axes._subplots.AxesSubplot at 0x7fb5753c7b10>"
            ]
          },
          "metadata": {},
          "execution_count": 52
        },
        {
          "output_type": "display_data",
          "data": {
            "text/plain": [
              "<Figure size 432x288 with 1 Axes>"
            ],
            "image/png": "[encoded data removed]"
          },
          "metadata": {
            "needs_background": "light"
          }
        }
      ]
    },
    {
      "cell_type": "code",
      "source": [
        "sns.barplot(data=vivos_muertos, x=\"Sexo\", y=\"loc_muertos\")"
      ],
      "metadata": {
        "colab": {
          "base_uri": "https://localhost:8080/",
          "height": 296
        },
        "id": "VYVpiP0yWXyv",
        "outputId": "82f770c0-d30c-4ef8-8289-1517e0ed566c"
      },
      "execution_count": 53,
      "outputs": [
        {
          "output_type": "execute_result",
          "data": {
            "text/plain": [
              "<matplotlib.axes._subplots.AxesSubplot at 0x7fb5752b3ad0>"
            ]
          },
          "metadata": {},
          "execution_count": 53
        },
        {
          "output_type": "display_data",
          "data": {
            "text/plain": [
              "<Figure size 432x288 with 1 Axes>"
            ],
            "image/png": "[encoded data removed]"
          },
          "metadata": {
            "needs_background": "light"
          }
        }
      ]
    },
    {
      "cell_type": "markdown",
      "source": [
        "## De los muertos."
      ],
      "metadata": {
        "id": "MjOujEf3XEew"
      }
    },
    {
      "cell_type": "markdown",
      "source": [
        "### Una gráfica de barras de si fueron identificados."
      ],
      "metadata": {
        "id": "DBTmW_IcXKv7"
      }
    },
    {
      "cell_type": "code",
      "source": [
        "Arizona_16_21=ARIZONA[(ARIZONA[\"Reporting Date\"]>=\"2016-01-01\") & (ARIZONA[\"Reporting Date\"]<=\"2021-12-31\")]"
      ],
      "metadata": {
        "id": "UKnggTOTXiSZ"
      },
      "execution_count": 111,
      "outputs": []
    },
    {
      "cell_type": "code",
      "source": [
        "sin_identificar=Arizona_16_21[Arizona_16_21[\"Name\"]==\"Unidentified\"].shape[0]\n",
        "print(\"El número de personas localizadas muertas al intentar cruzar la frontera que no fueron identificadas es de \"+str(sin_identificar)+\".\")"
      ],
      "metadata": {
        "colab": {
          "base_uri": "https://localhost:8080/"
        },
        "id": "Ha1MI6V9XM9m",
        "outputId": "4e5691e4-356f-477e-e31e-77a1733f1d9d"
      },
      "execution_count": 112,
      "outputs": [
        {
          "output_type": "stream",
          "name": "stdout",
          "text": [
            "El número de personas localizadas muertas al intentar cruzar la frontera que no fueron identificadas es de 504.\n"
          ]
        }
      ]
    },
    {
      "cell_type": "code",
      "source": [
        "identificadas = Arizona_16_21.shape[0]-sin_identificar\n",
        "print(\"El número de personas localizadas muertas al intentar cruzar la frontera que fueron identificadas es de \"+str(identificadas)+\".\")"
      ],
      "metadata": {
        "colab": {
          "base_uri": "https://localhost:8080/"
        },
        "id": "AqZsVugYYAS3",
        "outputId": "bf2937a6-b638-4352-9463-a30c104b2b7a"
      },
      "execution_count": 56,
      "outputs": [
        {
          "output_type": "stream",
          "name": "stdout",
          "text": [
            "El número de personas localizadas muertas al intentar cruzar la frontera que fueron identificadas es de 504.\n"
          ]
        }
      ]
    },
    {
      "cell_type": "code",
      "source": [
        "identificados_muertos = {'cantidad': [identificadas,sin_identificar]}\n",
        "identificados_muertos = pd.DataFrame(data=identificados_muertos, index=[\"identificadas\",\"sin identificar\"])\n",
        "identificados_muertos"
      ],
      "metadata": {
        "colab": {
          "base_uri": "https://localhost:8080/",
          "height": 112
        },
        "id": "Z_ePPTLZYORF",
        "outputId": "192337c8-97c4-4374-f4e7-fed70155c2f5"
      },
      "execution_count": 57,
      "outputs": [
        {
          "output_type": "execute_result",
          "data": {
            "text/plain": [
              "                 cantidad\n",
              "identificadas         504\n",
              "sin identificar       504"
            ],
            "text/html": [
              "\n",
              "  <div id=\"df-32882216-e8df-4e3d-bf90-0a7e1f533d36\">\n",
              "    <div class=\"colab-df-container\">\n",
              "      <div>\n",
              "<style scoped>\n",
              "    .dataframe tbody tr th:only-of-type {\n",
              "        vertical-align: middle;\n",
              "    }\n",
              "\n",
              "    .dataframe tbody tr th {\n",
              "        vertical-align: top;\n",
              "    }\n",
              "\n",
              "    .dataframe thead th {\n",
              "        text-align: right;\n",
              "    }\n",
              "</style>\n",
              "<table border=\"1\" class=\"dataframe\">\n",
              "  <thead>\n",
              "    <tr style=\"text-align: right;\">\n",
              "      <th></th>\n",
              "      <th>cantidad</th>\n",
              "    </tr>\n",
              "  </thead>\n",
              "  <tbody>\n",
              "    <tr>\n",
              "      <th>identificadas</th>\n",
              "      <td>504</td>\n",
              "    </tr>\n",
              "    <tr>\n",
              "      <th>sin identificar</th>\n",
              "      <td>504</td>\n",
              "    </tr>\n",
              "  </tbody>\n",
              "</table>\n",
              "</div>\n",
              "      <button class=\"colab-df-convert\" onclick=\"convertToInteractive('df-32882216-e8df-4e3d-bf90-0a7e1f533d36')\"\n",
              "              title=\"Convert this dataframe to an interactive table.\"\n",
              "              style=\"display:none;\">\n",
              "        \n",
              "  <svg xmlns=\"http://www.w3.org/2000/svg\" height=\"24px\"viewBox=\"0 0 24 24\"\n",
              "       width=\"24px\">\n",
              "    <path d=\"M0 0h24v24H0V0z\" fill=\"none\"/>\n",
              "    <path d=\"M18.56 5.44l.94 2.06.94-2.06 2.06-.94-2.06-.94-.94-2.06-.94 2.06-2.06.94zm-11 1L8.5 8.5l.94-2.06 2.06-.94-2.06-.94L8.5 2.5l-.94 2.06-2.06.94zm10 10l.94 2.06.94-2.06 2.06-.94-2.06-.94-.94-2.06-.94 2.06-2.06.94z\"/><path d=\"M17.41 7.96l-1.37-1.37c-.4-.4-.92-.59-1.43-.59-.52 0-1.04.2-1.43.59L10.3 9.45l-7.72 7.72c-.78.78-.78 2.05 0 2.83L4 21.41c.39.39.9.59 1.41.59.51 0 1.02-.2 1.41-.59l7.78-7.78 2.81-2.81c.8-.78.8-2.07 0-2.86zM5.41 20L4 18.59l7.72-7.72 1.47 1.35L5.41 20z\"/>\n",
              "  </svg>\n",
              "      </button>\n",
              "      \n",
              "  <style>\n",
              "    .colab-df-container {\n",
              "      display:flex;\n",
              "      flex-wrap:wrap;\n",
              "      gap: 12px;\n",
              "    }\n",
              "\n",
              "    .colab-df-convert {\n",
              "      background-color: #E8F0FE;\n",
              "      border: none;\n",
              "      border-radius: 50%;\n",
              "      cursor: pointer;\n",
              "      display: none;\n",
              "      fill: #1967D2;\n",
              "      height: 32px;\n",
              "      padding: 0 0 0 0;\n",
              "      width: 32px;\n",
              "    }\n",
              "\n",
              "    .colab-df-convert:hover {\n",
              "      background-color: #E2EBFA;\n",
              "      box-shadow: 0px 1px 2px rgba(60, 64, 67, 0.3), 0px 1px 3px 1px rgba(60, 64, 67, 0.15);\n",
              "      fill: #174EA6;\n",
              "    }\n",
              "\n",
              "    [theme=dark] .colab-df-convert {\n",
              "      background-color: #3B4455;\n",
              "      fill: #D2E3FC;\n",
              "    }\n",
              "\n",
              "    [theme=dark] .colab-df-convert:hover {\n",
              "      background-color: #434B5C;\n",
              "      box-shadow: 0px 1px 3px 1px rgba(0, 0, 0, 0.15);\n",
              "      filter: drop-shadow(0px 1px 2px rgba(0, 0, 0, 0.3));\n",
              "      fill: #FFFFFF;\n",
              "    }\n",
              "  </style>\n",
              "\n",
              "      <script>\n",
              "        const buttonEl =\n",
              "          document.querySelector('#df-32882216-e8df-4e3d-bf90-0a7e1f533d36 button.colab-df-convert');\n",
              "        buttonEl.style.display =\n",
              "          google.colab.kernel.accessAllowed ? 'block' : 'none';\n",
              "\n",
              "        async function convertToInteractive(key) {\n",
              "          const element = document.querySelector('#df-32882216-e8df-4e3d-bf90-0a7e1f533d36');\n",
              "          const dataTable =\n",
              "            await google.colab.kernel.invokeFunction('convertToInteractive',\n",
              "                                                     [key], {});\n",
              "          if (!dataTable) return;\n",
              "\n",
              "          const docLinkHtml = 'Like what you see? Visit the ' +\n",
              "            '<a target=\"_blank\" href=https://colab.research.google.com/notebooks/data_table.ipynb>data table notebook</a>'\n",
              "            + ' to learn more about interactive tables.';\n",
              "          element.innerHTML = '';\n",
              "          dataTable['output_type'] = 'display_data';\n",
              "          await google.colab.output.renderOutput(dataTable, element);\n",
              "          const docLink = document.createElement('div');\n",
              "          docLink.innerHTML = docLinkHtml;\n",
              "          element.appendChild(docLink);\n",
              "        }\n",
              "      </script>\n",
              "    </div>\n",
              "  </div>\n",
              "  "
            ]
          },
          "metadata": {},
          "execution_count": 57
        }
      ]
    },
    {
      "cell_type": "code",
      "source": [
        "identificados_muertos.plot.bar()"
      ],
      "metadata": {
        "colab": {
          "base_uri": "https://localhost:8080/",
          "height": 341
        },
        "id": "6Ybc9u5UYqVI",
        "outputId": "60c8c266-98dd-42f0-b410-44fad3e1c766"
      },
      "execution_count": 58,
      "outputs": [
        {
          "output_type": "execute_result",
          "data": {
            "text/plain": [
              "<matplotlib.axes._subplots.AxesSubplot at 0x7fb5752dc2d0>"
            ]
          },
          "metadata": {},
          "execution_count": 58
        },
        {
          "output_type": "display_data",
          "data": {
            "text/plain": [
              "<Figure size 432x288 with 1 Axes>"
            ],
            "image/png": "[encoded data removed]"
          },
          "metadata": {
            "needs_background": "light"
          }
        }
      ]
    },
    {
      "cell_type": "markdown",
      "source": [
        "### Un histograma con las edades."
      ],
      "metadata": {
        "id": "FFNnCE-yXNct"
      }
    },
    {
      "cell_type": "code",
      "source": [
        "sns.histplot(data=Arizona_16_21, x=\"Age\")"
      ],
      "metadata": {
        "colab": {
          "base_uri": "https://localhost:8080/",
          "height": 298
        },
        "id": "I1a9UBWxZgbt",
        "outputId": "3be000c8-6879-4afc-a391-69d578998725"
      },
      "execution_count": 59,
      "outputs": [
        {
          "output_type": "execute_result",
          "data": {
            "text/plain": [
              "<matplotlib.axes._subplots.AxesSubplot at 0x7fb5750d3e50>"
            ]
          },
          "metadata": {},
          "execution_count": 59
        },
        {
          "output_type": "display_data",
          "data": {
            "text/plain": [
              "<Figure size 432x288 with 1 Axes>"
            ],
            "image/png": "[encoded data removed]"
          },
          "metadata": {
            "needs_background": "light"
          }
        }
      ]
    },
    {
      "cell_type": "markdown",
      "source": [
        "### Una gráfica de barra de motivos de muerte."
      ],
      "metadata": {
        "id": "lVHrcR7LZm2A"
      }
    },
    {
      "cell_type": "code",
      "source": [
        "Arizona_16_21.groupby([\"Cause of Death\"]).count()[\"Name\"].sort_values(ascending=False).plot.bar()"
      ],
      "metadata": {
        "colab": {
          "base_uri": "https://localhost:8080/",
          "height": 403
        },
        "id": "w_VeOg3hZmdC",
        "outputId": "b0cb2c0b-d84f-4f4a-e5c2-3b8c9a0dd9ab"
      },
      "execution_count": 60,
      "outputs": [
        {
          "output_type": "execute_result",
          "data": {
            "text/plain": [
              "<matplotlib.axes._subplots.AxesSubplot at 0x7fb574c71e10>"
            ]
          },
          "metadata": {},
          "execution_count": 60
        },
        {
          "output_type": "display_data",
          "data": {
            "text/plain": [
              "<Figure size 432x288 with 1 Axes>"
            ],
            "image/png": "[encoded data removed]"
          },
          "metadata": {
            "needs_background": "light"
          }
        }
      ]
    },
    {
      "cell_type": "code",
      "source": [
        "Arizona_16_21.groupby([\"Body Condition\"]).count()[\"Name\"].sort_values(ascending=False).plot.bar()"
      ],
      "metadata": {
        "colab": {
          "base_uri": "https://localhost:8080/",
          "height": 569
        },
        "id": "ICBbwYg1buda",
        "outputId": "68581e76-e252-4cda-acc6-448f47f2d33a"
      },
      "execution_count": 61,
      "outputs": [
        {
          "output_type": "execute_result",
          "data": {
            "text/plain": [
              "<matplotlib.axes._subplots.AxesSubplot at 0x7fb577f5d550>"
            ]
          },
          "metadata": {},
          "execution_count": 61
        },
        {
          "output_type": "display_data",
          "data": {
            "text/plain": [
              "<Figure size 432x288 with 1 Axes>"
            ],
            "image/png": "[encoded data removed]"
          },
          "metadata": {
            "needs_background": "light"
          }
        }
      ]
    },
    {
      "cell_type": "markdown",
      "source": [
        "### Una gráfica de barra de tiempo de localización."
      ],
      "metadata": {
        "id": "PCcqwB7SYwFL"
      }
    },
    {
      "cell_type": "code",
      "source": [
        "Arizona_16_21.groupby(\"Post Mortem Interval\").count()[\"Name\"].sort_values(ascending=False).plot.bar()"
      ],
      "metadata": {
        "colab": {
          "base_uri": "https://localhost:8080/",
          "height": 358
        },
        "id": "-ptW8Fh3bApf",
        "outputId": "ed7973ab-e9a1-492b-c89e-c72630801adf"
      },
      "execution_count": 62,
      "outputs": [
        {
          "output_type": "execute_result",
          "data": {
            "text/plain": [
              "<matplotlib.axes._subplots.AxesSubplot at 0x7fb5754e2450>"
            ]
          },
          "metadata": {},
          "execution_count": 62
        },
        {
          "output_type": "display_data",
          "data": {
            "text/plain": [
              "<Figure size 432x288 with 1 Axes>"
            ],
            "image/png": "[encoded data removed]"
          },
          "metadata": {
            "needs_background": "light"
          }
        }
      ]
    },
    {
      "cell_type": "markdown",
      "source": [
        "### Histograma de año con más muertes."
      ],
      "metadata": {
        "id": "gkt4dI2Ga_GK"
      }
    },
    {
      "cell_type": "code",
      "source": [
        "Arizona_16_21.groupby(Arizona_16_21[\"Reporting Date\"].dt.year).count()[\"Name\"].plot.bar()"
      ],
      "metadata": {
        "colab": {
          "base_uri": "https://localhost:8080/",
          "height": 312
        },
        "id": "IwYWbF3bbOOC",
        "outputId": "6016318a-4f5b-4274-ab2a-23c9c95364b5"
      },
      "execution_count": 63,
      "outputs": [
        {
          "output_type": "execute_result",
          "data": {
            "text/plain": [
              "<matplotlib.axes._subplots.AxesSubplot at 0x7fb57553eb10>"
            ]
          },
          "metadata": {},
          "execution_count": 63
        },
        {
          "output_type": "display_data",
          "data": {
            "text/plain": [
              "<Figure size 432x288 with 1 Axes>"
            ],
            "image/png": "[encoded data removed]"
          },
          "metadata": {
            "needs_background": "light"
          }
        }
      ]
    },
    {
      "cell_type": "markdown",
      "source": [
        "### Histograma de mes con más muertes."
      ],
      "metadata": {
        "id": "vCE1n6CnbO9g"
      }
    },
    {
      "cell_type": "code",
      "source": [
        "Arizona_16_21.groupby(Arizona_16_21[\"Reporting Date\"].dt.month).count()[\"Name\"].plot.bar()"
      ],
      "metadata": {
        "colab": {
          "base_uri": "https://localhost:8080/",
          "height": 299
        },
        "id": "0BF1jN9jbaHM",
        "outputId": "debde173-311c-40fd-e4e5-b3b612f948d4"
      },
      "execution_count": 64,
      "outputs": [
        {
          "output_type": "execute_result",
          "data": {
            "text/plain": [
              "<matplotlib.axes._subplots.AxesSubplot at 0x7fb577dbbe50>"
            ]
          },
          "metadata": {},
          "execution_count": 64
        },
        {
          "output_type": "display_data",
          "data": {
            "text/plain": [
              "<Figure size 432x288 with 1 Axes>"
            ],
            "image/png": "[encoded data removed]"
          },
          "metadata": {
            "needs_background": "light"
          }
        }
      ]
    },
    {
      "cell_type": "markdown",
      "source": [
        "## De los vivos\n"
      ],
      "metadata": {
        "id": "fF0jBkLfb9a6"
      }
    },
    {
      "cell_type": "markdown",
      "source": [
        "### Histograma de la edad."
      ],
      "metadata": {
        "id": "oFsZeO76cCH2"
      }
    },
    {
      "cell_type": "code",
      "source": [
        "aux = SEGOB[SEGOB[\"PERM_EU_parsed\"]==\"De 0 a 30 días\"]\n",
        "sns.histplot(data=aux, x=\"EDA\")"
      ],
      "metadata": {
        "colab": {
          "base_uri": "https://localhost:8080/",
          "height": 296
        },
        "id": "bkugJh5ncFyK",
        "outputId": "32aed096-4f7f-48c8-9c6d-2560da2cb608"
      },
      "execution_count": 65,
      "outputs": [
        {
          "output_type": "execute_result",
          "data": {
            "text/plain": [
              "<matplotlib.axes._subplots.AxesSubplot at 0x7fb573529850>"
            ]
          },
          "metadata": {},
          "execution_count": 65
        },
        {
          "output_type": "display_data",
          "data": {
            "text/plain": [
              "<Figure size 432x288 with 1 Axes>"
            ],
            "image/png": "[encoded data removed]"
          },
          "metadata": {
            "needs_background": "light"
          }
        }
      ]
    },
    {
      "cell_type": "markdown",
      "source": [
        "### Gráfica de barras de sexo."
      ],
      "metadata": {
        "id": "2q0SNU2z2sxZ"
      }
    },
    {
      "cell_type": "code",
      "source": [
        "(SEGOB[SEGOB[\"PERM_EU_parsed\"]==\"De 0 a 30 días\"]\n",
        "              .groupby([\"SEXO_parsed\"])\n",
        "              .count()[\"DEL\"]\n",
        "              .plot.bar())"
      ],
      "metadata": {
        "colab": {
          "base_uri": "https://localhost:8080/",
          "height": 327
        },
        "id": "uFAmJMTf2Jto",
        "outputId": "598c01eb-59f9-4670-e3a3-73e565a7aeea"
      },
      "execution_count": 66,
      "outputs": [
        {
          "output_type": "execute_result",
          "data": {
            "text/plain": [
              "<matplotlib.axes._subplots.AxesSubplot at 0x7fb57335b110>"
            ]
          },
          "metadata": {},
          "execution_count": 66
        },
        {
          "output_type": "display_data",
          "data": {
            "text/plain": [
              "<Figure size 432x288 with 1 Axes>"
            ],
            "image/png": "[encoded data removed]"
          },
          "metadata": {
            "needs_background": "light"
          }
        }
      ]
    },
    {
      "cell_type": "markdown",
      "source": [
        "### Gráfica de barras de nivel educativo."
      ],
      "metadata": {
        "id": "yoFUAB-R2uPB"
      }
    },
    {
      "cell_type": "code",
      "source": [
        "(SEGOB[SEGOB[\"PERM_EU_parsed\"]==\"De 0 a 30 días\"]\n",
        "              .groupby([\"NIV_ESC_parsed\"])\n",
        "              .count()[\"DEL\"]\n",
        "              .plot.bar())"
      ],
      "metadata": {
        "colab": {
          "base_uri": "https://localhost:8080/",
          "height": 479
        },
        "id": "6r1UtvMd20YO",
        "outputId": "19b0d654-e7ca-481c-a23b-07ac77009edd"
      },
      "execution_count": 67,
      "outputs": [
        {
          "output_type": "execute_result",
          "data": {
            "text/plain": [
              "<matplotlib.axes._subplots.AxesSubplot at 0x7fb5732d7ed0>"
            ]
          },
          "metadata": {},
          "execution_count": 67
        },
        {
          "output_type": "display_data",
          "data": {
            "text/plain": [
              "<Figure size 432x288 with 1 Axes>"
            ],
            "image/png": "[encoded data removed]"
          },
          "metadata": {
            "needs_background": "light"
          }
        }
      ]
    },
    {
      "cell_type": "markdown",
      "source": [
        "### Gráfica de barras de personas que duraron menos de 30 días que informe que dependencias las capturaron."
      ],
      "metadata": {
        "id": "pC08bCWY3rBF"
      }
    },
    {
      "cell_type": "code",
      "source": [
        "(SEGOB[SEGOB[\"PERM_EU_parsed\"]==\"De 0 a 30 días\"]\n",
        "              .groupby([\"AUT_DEP_parsed\"])\n",
        "              .count()[\"DEL\"]\n",
        "              .plot.bar())"
      ],
      "metadata": {
        "colab": {
          "base_uri": "https://localhost:8080/",
          "height": 366
        },
        "id": "xXdyVQuA35YL",
        "outputId": "1163b520-1b1d-4358-be90-be230f992f94"
      },
      "execution_count": 68,
      "outputs": [
        {
          "output_type": "execute_result",
          "data": {
            "text/plain": [
              "<matplotlib.axes._subplots.AxesSubplot at 0x7fb5731e7a10>"
            ]
          },
          "metadata": {},
          "execution_count": 68
        },
        {
          "output_type": "display_data",
          "data": {
            "text/plain": [
              "<Figure size 432x288 with 1 Axes>"
            ],
            "image/png": "[encoded data removed]"
          },
          "metadata": {
            "needs_background": "light"
          }
        }
      ]
    },
    {
      "cell_type": "markdown",
      "source": [
        "### Servicios que más frecuentemente recibieron los capturados."
      ],
      "metadata": {
        "id": "6YeURyCV3-_J"
      }
    },
    {
      "cell_type": "code",
      "source": [
        "import matplotlib.pyplot as plt"
      ],
      "metadata": {
        "id": "6mBKZ84x6bVe"
      },
      "execution_count": 69,
      "outputs": []
    },
    {
      "cell_type": "code",
      "source": [
        "(SEGOB[SEGOB[\"PERM_EU_parsed\"]==\"De 0 a 30 días\"][[\"CAN_AL\",\"CAN_COM\",\"CAN_STRA\",\n",
        "                                                   \"CAN_SEGPOP\",\"CAN_OFAM\",\"AGUA_AL\",\n",
        "                                                   \"DESC_BUS\",\"APO_LLAM\",\"APO_MAT\",\n",
        "                                                   \"APO_VES\",\"APO_ASF\",\"APO_AME\",\n",
        "                                                   \"APO_REC_PERT\"]].sum()\n",
        "                                                   .sort_values(ascending=False)\n",
        "                                                   .plot.bar())\n",
        "\n",
        "plt.axhline(y=SEGOB[SEGOB[\"PERM_EU_parsed\"]==\"De 0 a 30 días\"].shape[0], color='r', linestyle='--')\n",
        "plt.show()"
      ],
      "metadata": {
        "colab": {
          "base_uri": "https://localhost:8080/",
          "height": 330
        },
        "id": "Bwws_Cz04Wik",
        "outputId": "2f684890-2fc2-4b8d-8bca-4935a22b41d8"
      },
      "execution_count": 70,
      "outputs": [
        {
          "output_type": "display_data",
          "data": {
            "text/plain": [
              "<Figure size 432x288 with 1 Axes>"
            ],
            "image/png": "[encoded data removed]"
          },
          "metadata": {
            "needs_background": "light"
          }
        }
      ]
    },
    {
      "cell_type": "markdown",
      "source": [
        "## Diseño de KPI\n",
        "\n",
        "Se propone un KPI que permita identificar a lo largo de los meses la cantidad de migrantes localizados vivos y localizados muertos, con el objetivo de detectar si la cantidad de localizados muertos es mayor o igual a los localizados vivos. \n",
        "\n",
        "El análisis del KPI puede ser encontrado en la [siguiente liga](https://docs.google.com/document/d/1cMpoQe4566KmQ2mwEoSveCdY1LL6IVRx-6XbkzKTuFI/edit?usp=sharing)."
      ],
      "metadata": {
        "id": "UDuNU3quReht"
      }
    },
    {
      "cell_type": "markdown",
      "source": [
        "Agrupamos los datos de los localizados vivos y muertos por año y mes."
      ],
      "metadata": {
        "id": "GJC6OEXoTqq8"
      }
    },
    {
      "cell_type": "code",
      "source": [
        "#Vivos\n",
        "vivos = (SEGOB[SEGOB[\"PERM_EU_parsed\"]==\"De 0 a 30 días\"]\n",
        "                      .set_index('FEC_REP')\n",
        "                      .groupby(pd.Grouper(freq='M'))\n",
        "                      .count()[\"DEL\"])\n",
        "vivos"
      ],
      "metadata": {
        "colab": {
          "base_uri": "https://localhost:8080/"
        },
        "id": "mjhDX4s3SP9r",
        "outputId": "215131ba-dc8b-4f6e-de59-f2795dbd25b5"
      },
      "execution_count": 82,
      "outputs": [
        {
          "output_type": "execute_result",
          "data": {
            "text/plain": [
              "FEC_REP\n",
              "2016-01-31    2572\n",
              "2016-02-29    3423\n",
              "2016-03-31    4655\n",
              "2016-04-30    4502\n",
              "2016-05-31    4791\n",
              "              ... \n",
              "2021-08-31    2215\n",
              "2021-09-30    3041\n",
              "2021-10-31    3406\n",
              "2021-11-30    3806\n",
              "2021-12-31    2920\n",
              "Freq: M, Name: DEL, Length: 72, dtype: int64"
            ]
          },
          "metadata": {},
          "execution_count": 82
        }
      ]
    },
    {
      "cell_type": "code",
      "source": [
        "#Muertos\n",
        "muertos = (Arizona_16_21.set_index('Reporting Date')\n",
        "              .groupby(pd.Grouper(freq='M'))\n",
        "              .count()[\"Name\"])\n",
        "muertos"
      ],
      "metadata": {
        "colab": {
          "base_uri": "https://localhost:8080/"
        },
        "id": "2dcFCZdkTc9n",
        "outputId": "213c4ad4-6920-452e-d72f-2c936cda5e61"
      },
      "execution_count": 83,
      "outputs": [
        {
          "output_type": "execute_result",
          "data": {
            "text/plain": [
              "Reporting Date\n",
              "2016-01-31     8\n",
              "2016-02-29     1\n",
              "2016-03-31     8\n",
              "2016-04-30     8\n",
              "2016-05-31     9\n",
              "              ..\n",
              "2021-08-31    16\n",
              "2021-09-30    26\n",
              "2021-10-31    12\n",
              "2021-11-30    15\n",
              "2021-12-31     5\n",
              "Freq: M, Name: Name, Length: 72, dtype: int64"
            ]
          },
          "metadata": {},
          "execution_count": 83
        }
      ]
    },
    {
      "cell_type": "code",
      "source": [
        "localizados_ts=(pd.concat([vivos,muertos], axis=1)\n",
        "                  .reset_index()\n",
        "                  .rename(columns={\"index\":\"Fecha\", \"DEL\": \"loc_vivos\", \"Name\": \"loc_muertos\"}))\n",
        "localizados_ts"
      ],
      "metadata": {
        "colab": {
          "base_uri": "https://localhost:8080/",
          "height": 424
        },
        "id": "C27NTAj7T0PY",
        "outputId": "a5a517a9-a2a5-4003-c4d7-3cddeef9bb89"
      },
      "execution_count": 94,
      "outputs": [
        {
          "output_type": "execute_result",
          "data": {
            "text/plain": [
              "        Fecha  loc_vivos  loc_muertos\n",
              "0  2016-01-31       2572            8\n",
              "1  2016-02-29       3423            1\n",
              "2  2016-03-31       4655            8\n",
              "3  2016-04-30       4502            8\n",
              "4  2016-05-31       4791            9\n",
              "..        ...        ...          ...\n",
              "67 2021-08-31       2215           16\n",
              "68 2021-09-30       3041           26\n",
              "69 2021-10-31       3406           12\n",
              "70 2021-11-30       3806           15\n",
              "71 2021-12-31       2920            5\n",
              "\n",
              "[72 rows x 3 columns]"
            ],
            "text/html": [
              "\n",
              "  <div id=\"df-cf3409c3-a989-482c-bf84-da6b1c744d44\">\n",
              "    <div class=\"colab-df-container\">\n",
              "      <div>\n",
              "<style scoped>\n",
              "    .dataframe tbody tr th:only-of-type {\n",
              "        vertical-align: middle;\n",
              "    }\n",
              "\n",
              "    .dataframe tbody tr th {\n",
              "        vertical-align: top;\n",
              "    }\n",
              "\n",
              "    .dataframe thead th {\n",
              "        text-align: right;\n",
              "    }\n",
              "</style>\n",
              "<table border=\"1\" class=\"dataframe\">\n",
              "  <thead>\n",
              "    <tr style=\"text-align: right;\">\n",
              "      <th></th>\n",
              "      <th>Fecha</th>\n",
              "      <th>loc_vivos</th>\n",
              "      <th>loc_muertos</th>\n",
              "    </tr>\n",
              "  </thead>\n",
              "  <tbody>\n",
              "    <tr>\n",
              "      <th>0</th>\n",
              "      <td>2016-01-31</td>\n",
              "      <td>2572</td>\n",
              "      <td>8</td>\n",
              "    </tr>\n",
              "    <tr>\n",
              "      <th>1</th>\n",
              "      <td>2016-02-29</td>\n",
              "      <td>3423</td>\n",
              "      <td>1</td>\n",
              "    </tr>\n",
              "    <tr>\n",
              "      <th>2</th>\n",
              "      <td>2016-03-31</td>\n",
              "      <td>4655</td>\n",
              "      <td>8</td>\n",
              "    </tr>\n",
              "    <tr>\n",
              "      <th>3</th>\n",
              "      <td>2016-04-30</td>\n",
              "      <td>4502</td>\n",
              "      <td>8</td>\n",
              "    </tr>\n",
              "    <tr>\n",
              "      <th>4</th>\n",
              "      <td>2016-05-31</td>\n",
              "      <td>4791</td>\n",
              "      <td>9</td>\n",
              "    </tr>\n",
              "    <tr>\n",
              "      <th>...</th>\n",
              "      <td>...</td>\n",
              "      <td>...</td>\n",
              "      <td>...</td>\n",
              "    </tr>\n",
              "    <tr>\n",
              "      <th>67</th>\n",
              "      <td>2021-08-31</td>\n",
              "      <td>2215</td>\n",
              "      <td>16</td>\n",
              "    </tr>\n",
              "    <tr>\n",
              "      <th>68</th>\n",
              "      <td>2021-09-30</td>\n",
              "      <td>3041</td>\n",
              "      <td>26</td>\n",
              "    </tr>\n",
              "    <tr>\n",
              "      <th>69</th>\n",
              "      <td>2021-10-31</td>\n",
              "      <td>3406</td>\n",
              "      <td>12</td>\n",
              "    </tr>\n",
              "    <tr>\n",
              "      <th>70</th>\n",
              "      <td>2021-11-30</td>\n",
              "      <td>3806</td>\n",
              "      <td>15</td>\n",
              "    </tr>\n",
              "    <tr>\n",
              "      <th>71</th>\n",
              "      <td>2021-12-31</td>\n",
              "      <td>2920</td>\n",
              "      <td>5</td>\n",
              "    </tr>\n",
              "  </tbody>\n",
              "</table>\n",
              "<p>72 rows × 3 columns</p>\n",
              "</div>\n",
              "      <button class=\"colab-df-convert\" onclick=\"convertToInteractive('df-cf3409c3-a989-482c-bf84-da6b1c744d44')\"\n",
              "              title=\"Convert this dataframe to an interactive table.\"\n",
              "              style=\"display:none;\">\n",
              "        \n",
              "  <svg xmlns=\"http://www.w3.org/2000/svg\" height=\"24px\"viewBox=\"0 0 24 24\"\n",
              "       width=\"24px\">\n",
              "    <path d=\"M0 0h24v24H0V0z\" fill=\"none\"/>\n",
              "    <path d=\"M18.56 5.44l.94 2.06.94-2.06 2.06-.94-2.06-.94-.94-2.06-.94 2.06-2.06.94zm-11 1L8.5 8.5l.94-2.06 2.06-.94-2.06-.94L8.5 2.5l-.94 2.06-2.06.94zm10 10l.94 2.06.94-2.06 2.06-.94-2.06-.94-.94-2.06-.94 2.06-2.06.94z\"/><path d=\"M17.41 7.96l-1.37-1.37c-.4-.4-.92-.59-1.43-.59-.52 0-1.04.2-1.43.59L10.3 9.45l-7.72 7.72c-.78.78-.78 2.05 0 2.83L4 21.41c.39.39.9.59 1.41.59.51 0 1.02-.2 1.41-.59l7.78-7.78 2.81-2.81c.8-.78.8-2.07 0-2.86zM5.41 20L4 18.59l7.72-7.72 1.47 1.35L5.41 20z\"/>\n",
              "  </svg>\n",
              "      </button>\n",
              "      \n",
              "  <style>\n",
              "    .colab-df-container {\n",
              "      display:flex;\n",
              "      flex-wrap:wrap;\n",
              "      gap: 12px;\n",
              "    }\n",
              "\n",
              "    .colab-df-convert {\n",
              "      background-color: #E8F0FE;\n",
              "      border: none;\n",
              "      border-radius: 50%;\n",
              "      cursor: pointer;\n",
              "      display: none;\n",
              "      fill: #1967D2;\n",
              "      height: 32px;\n",
              "      padding: 0 0 0 0;\n",
              "      width: 32px;\n",
              "    }\n",
              "\n",
              "    .colab-df-convert:hover {\n",
              "      background-color: #E2EBFA;\n",
              "      box-shadow: 0px 1px 2px rgba(60, 64, 67, 0.3), 0px 1px 3px 1px rgba(60, 64, 67, 0.15);\n",
              "      fill: #174EA6;\n",
              "    }\n",
              "\n",
              "    [theme=dark] .colab-df-convert {\n",
              "      background-color: #3B4455;\n",
              "      fill: #D2E3FC;\n",
              "    }\n",
              "\n",
              "    [theme=dark] .colab-df-convert:hover {\n",
              "      background-color: #434B5C;\n",
              "      box-shadow: 0px 1px 3px 1px rgba(0, 0, 0, 0.15);\n",
              "      filter: drop-shadow(0px 1px 2px rgba(0, 0, 0, 0.3));\n",
              "      fill: #FFFFFF;\n",
              "    }\n",
              "  </style>\n",
              "\n",
              "      <script>\n",
              "        const buttonEl =\n",
              "          document.querySelector('#df-cf3409c3-a989-482c-bf84-da6b1c744d44 button.colab-df-convert');\n",
              "        buttonEl.style.display =\n",
              "          google.colab.kernel.accessAllowed ? 'block' : 'none';\n",
              "\n",
              "        async function convertToInteractive(key) {\n",
              "          const element = document.querySelector('#df-cf3409c3-a989-482c-bf84-da6b1c744d44');\n",
              "          const dataTable =\n",
              "            await google.colab.kernel.invokeFunction('convertToInteractive',\n",
              "                                                     [key], {});\n",
              "          if (!dataTable) return;\n",
              "\n",
              "          const docLinkHtml = 'Like what you see? Visit the ' +\n",
              "            '<a target=\"_blank\" href=https://colab.research.google.com/notebooks/data_table.ipynb>data table notebook</a>'\n",
              "            + ' to learn more about interactive tables.';\n",
              "          element.innerHTML = '';\n",
              "          dataTable['output_type'] = 'display_data';\n",
              "          await google.colab.output.renderOutput(dataTable, element);\n",
              "          const docLink = document.createElement('div');\n",
              "          docLink.innerHTML = docLinkHtml;\n",
              "          element.appendChild(docLink);\n",
              "        }\n",
              "      </script>\n",
              "    </div>\n",
              "  </div>\n",
              "  "
            ]
          },
          "metadata": {},
          "execution_count": 94
        }
      ]
    },
    {
      "cell_type": "code",
      "source": [
        "fig = px.line(localizados_ts, x=\"Fecha\", y=localizados_ts.columns,\n",
        "              labels={\n",
        "                     \"loc_vivos\": \"Localizados vivos\",\n",
        "                     \"loc_muertos\": \"Localizados muertos\",\n",
        "                      \"value\":\"Cantidad\"},\n",
        "              hover_data={\"Fecha\": \"|%B, %Y\"},\n",
        "              title='Inmigrantes localizados vivos vs localizados muertos por mes'\n",
        "              )\n",
        "fig.update_layout(legend_title=\"Variable\")\n",
        "fig.show()"
      ],
      "metadata": {
        "colab": {
          "base_uri": "https://localhost:8080/",
          "height": 542
        },
        "id": "ZvjdmZhKU1gY",
        "outputId": "79953d85-b320-43da-8286-03746a8b6385"
      },
      "execution_count": 107,
      "outputs": [
        {
          "output_type": "display_data",
          "data": {
            "text/html": [
              "<html>\n",
              "<head><meta charset=\"utf-8\" /></head>\n",
              "<body>\n",
              "    <div>            <script src=\"https://cdnjs.cloudflare.com/ajax/libs/mathjax/2.7.5/MathJax.js?config=TeX-AMS-MML_SVG\"></script><script type=\"text/javascript\">if (window.MathJax) {MathJax.Hub.Config({SVG: {font: \"STIX-Web\"}});}</script>                <script type=\"text/javascript\">window.PlotlyConfig = {MathJaxConfig: 'local'};</script>\n",
              "        <script src=\"https://cdn.plot.ly/plotly-2.8.3.min.js\"></script>                <div id=\"5488fb6c-e86c-432a-831c-d116ef0ea30b\" class=\"plotly-graph-div\" style=\"height:525px; width:100%;\"></div>            <script type=\"text/javascript\">                                    window.PLOTLYENV=window.PLOTLYENV || {};                                    if (document.getElementById(\"5488fb6c-e86c-432a-831c-d116ef0ea30b\")) {                    Plotly.newPlot(                        \"5488fb6c-e86c-432a-831c-d116ef0ea30b\",                        [{\"hovertemplate\":\"variable=loc_vivos<br>Fecha=%{x|%B, %Y}<br>Cantidad=%{y}<extra></extra>\",\"legendgroup\":\"loc_vivos\",\"line\":{\"color\":\"#636efa\",\"dash\":\"solid\"},\"marker\":{\"symbol\":\"circle\"},\"mode\":\"lines\",\"name\":\"loc_vivos\",\"orientation\":\"v\",\"showlegend\":true,\"x\":[\"2016-01-31T00:00:00\",\"2016-02-29T00:00:00\",\"2016-03-31T00:00:00\",\"2016-04-30T00:00:00\",\"2016-05-31T00:00:00\",\"2016-06-30T00:00:00\",\"2016-07-31T00:00:00\",\"2016-08-31T00:00:00\",\"2016-09-30T00:00:00\",\"2016-10-31T00:00:00\",\"2016-11-30T00:00:00\",\"2016-12-31T00:00:00\",\"2017-01-31T00:00:00\",\"2017-02-28T00:00:00\",\"2017-03-31T00:00:00\",\"2017-04-30T00:00:00\",\"2017-05-31T00:00:00\",\"2017-06-30T00:00:00\",\"2017-07-31T00:00:00\",\"2017-08-31T00:00:00\",\"2017-09-30T00:00:00\",\"2017-10-31T00:00:00\",\"2017-11-30T00:00:00\",\"2017-12-31T00:00:00\",\"2018-01-31T00:00:00\",\"2018-02-28T00:00:00\",\"2018-03-31T00:00:00\",\"2018-04-30T00:00:00\",\"2018-05-31T00:00:00\",\"2018-06-30T00:00:00\",\"2018-07-31T00:00:00\",\"2018-08-31T00:00:00\",\"2018-09-30T00:00:00\",\"2018-10-31T00:00:00\",\"2018-11-30T00:00:00\",\"2018-12-31T00:00:00\",\"2019-01-31T00:00:00\",\"2019-02-28T00:00:00\",\"2019-03-31T00:00:00\",\"2019-04-30T00:00:00\",\"2019-05-31T00:00:00\",\"2019-06-30T00:00:00\",\"2019-07-31T00:00:00\",\"2019-08-31T00:00:00\",\"2019-09-30T00:00:00\",\"2019-10-31T00:00:00\",\"2019-11-30T00:00:00\",\"2019-12-31T00:00:00\",\"2020-01-31T00:00:00\",\"2020-02-29T00:00:00\",\"2020-03-31T00:00:00\",\"2020-04-30T00:00:00\",\"2020-05-31T00:00:00\",\"2020-06-30T00:00:00\",\"2020-07-31T00:00:00\",\"2020-08-31T00:00:00\",\"2020-09-30T00:00:00\",\"2020-10-31T00:00:00\",\"2020-11-30T00:00:00\",\"2020-12-31T00:00:00\",\"2021-01-31T00:00:00\",\"2021-02-28T00:00:00\",\"2021-03-31T00:00:00\",\"2021-04-30T00:00:00\",\"2021-05-31T00:00:00\",\"2021-06-30T00:00:00\",\"2021-07-31T00:00:00\",\"2021-08-31T00:00:00\",\"2021-09-30T00:00:00\",\"2021-10-31T00:00:00\",\"2021-11-30T00:00:00\",\"2021-12-31T00:00:00\"],\"xaxis\":\"x\",\"y\":[2572,3423,4655,4502,4791,3956,3066,2845,3253,3684,4039,2480,1982,1495,1344,1117,1448,1782,1559,1784,1106,1309,1610,1390,1163,1288,1947,1702,1904,1711,1309,1503,1787,2327,1892,1596,1561,1560,2170,1881,2005,2001,1576,1557,1805,2458,2267,1948,2358,2790,2972,1170,1050,1544,1853,2017,2625,2960,3043,2924,2847,2876,3240,4409,4279,3540,2620,2215,3041,3406,3806,2920],\"yaxis\":\"y\",\"type\":\"scatter\"},{\"hovertemplate\":\"variable=loc_muertos<br>Fecha=%{x|%B, %Y}<br>Cantidad=%{y}<extra></extra>\",\"legendgroup\":\"loc_muertos\",\"line\":{\"color\":\"#EF553B\",\"dash\":\"solid\"},\"marker\":{\"symbol\":\"circle\"},\"mode\":\"lines\",\"name\":\"loc_muertos\",\"orientation\":\"v\",\"showlegend\":true,\"x\":[\"2016-01-31T00:00:00\",\"2016-02-29T00:00:00\",\"2016-03-31T00:00:00\",\"2016-04-30T00:00:00\",\"2016-05-31T00:00:00\",\"2016-06-30T00:00:00\",\"2016-07-31T00:00:00\",\"2016-08-31T00:00:00\",\"2016-09-30T00:00:00\",\"2016-10-31T00:00:00\",\"2016-11-30T00:00:00\",\"2016-12-31T00:00:00\",\"2017-01-31T00:00:00\",\"2017-02-28T00:00:00\",\"2017-03-31T00:00:00\",\"2017-04-30T00:00:00\",\"2017-05-31T00:00:00\",\"2017-06-30T00:00:00\",\"2017-07-31T00:00:00\",\"2017-08-31T00:00:00\",\"2017-09-30T00:00:00\",\"2017-10-31T00:00:00\",\"2017-11-30T00:00:00\",\"2017-12-31T00:00:00\",\"2018-01-31T00:00:00\",\"2018-02-28T00:00:00\",\"2018-03-31T00:00:00\",\"2018-04-30T00:00:00\",\"2018-05-31T00:00:00\",\"2018-06-30T00:00:00\",\"2018-07-31T00:00:00\",\"2018-08-31T00:00:00\",\"2018-09-30T00:00:00\",\"2018-10-31T00:00:00\",\"2018-11-30T00:00:00\",\"2018-12-31T00:00:00\",\"2019-01-31T00:00:00\",\"2019-02-28T00:00:00\",\"2019-03-31T00:00:00\",\"2019-04-30T00:00:00\",\"2019-05-31T00:00:00\",\"2019-06-30T00:00:00\",\"2019-07-31T00:00:00\",\"2019-08-31T00:00:00\",\"2019-09-30T00:00:00\",\"2019-10-31T00:00:00\",\"2019-11-30T00:00:00\",\"2019-12-31T00:00:00\",\"2020-01-31T00:00:00\",\"2020-02-29T00:00:00\",\"2020-03-31T00:00:00\",\"2020-04-30T00:00:00\",\"2020-05-31T00:00:00\",\"2020-06-30T00:00:00\",\"2020-07-31T00:00:00\",\"2020-08-31T00:00:00\",\"2020-09-30T00:00:00\",\"2020-10-31T00:00:00\",\"2020-11-30T00:00:00\",\"2020-12-31T00:00:00\",\"2021-01-31T00:00:00\",\"2021-02-28T00:00:00\",\"2021-03-31T00:00:00\",\"2021-04-30T00:00:00\",\"2021-05-31T00:00:00\",\"2021-06-30T00:00:00\",\"2021-07-31T00:00:00\",\"2021-08-31T00:00:00\",\"2021-09-30T00:00:00\",\"2021-10-31T00:00:00\",\"2021-11-30T00:00:00\",\"2021-12-31T00:00:00\"],\"xaxis\":\"x\",\"y\":[8,1,8,8,9,27,26,17,22,14,11,13,13,15,6,5,12,20,13,10,11,6,8,4,6,10,9,10,11,23,13,13,13,10,3,8,14,10,7,9,14,13,19,13,13,14,7,11,20,23,14,12,12,14,25,24,35,18,14,12,19,14,19,13,21,44,21,16,26,12,15,5],\"yaxis\":\"y\",\"type\":\"scatter\"}],                        {\"template\":{\"data\":{\"bar\":[{\"error_x\":{\"color\":\"#2a3f5f\"},\"error_y\":{\"color\":\"#2a3f5f\"},\"marker\":{\"line\":{\"color\":\"#E5ECF6\",\"width\":0.5},\"pattern\":{\"fillmode\":\"overlay\",\"size\":10,\"solidity\":0.2}},\"type\":\"bar\"}],\"barpolar\":[{\"marker\":{\"line\":{\"color\":\"#E5ECF6\",\"width\":0.5},\"pattern\":{\"fillmode\":\"overlay\",\"size\":10,\"solidity\":0.2}},\"type\":\"barpolar\"}],\"carpet\":[{\"aaxis\":{\"endlinecolor\":\"#2a3f5f\",\"gridcolor\":\"white\",\"linecolor\":\"white\",\"minorgridcolor\":\"white\",\"startlinecolor\":\"#2a3f5f\"},\"baxis\":{\"endlinecolor\":\"#2a3f5f\",\"gridcolor\":\"white\",\"linecolor\":\"white\",\"minorgridcolor\":\"white\",\"startlinecolor\":\"#2a3f5f\"},\"type\":\"carpet\"}],\"choropleth\":[{\"colorbar\":{\"outlinewidth\":0,\"ticks\":\"\"},\"type\":\"choropleth\"}],\"contour\":[{\"colorbar\":{\"outlinewidth\":0,\"ticks\":\"\"},\"colorscale\":[[0.0,\"#0d0887\"],[0.1111111111111111,\"#46039f\"],[0.2222222222222222,\"#7201a8\"],[0.3333333333333333,\"#9c179e\"],[0.4444444444444444,\"#bd3786\"],[0.5555555555555556,\"#d8576b\"],[0.6666666666666666,\"#ed7953\"],[0.7777777777777778,\"#fb9f3a\"],[0.8888888888888888,\"#fdca26\"],[1.0,\"#f0f921\"]],\"type\":\"contour\"}],\"contourcarpet\":[{\"colorbar\":{\"outlinewidth\":0,\"ticks\":\"\"},\"type\":\"contourcarpet\"}],\"heatmap\":[{\"colorbar\":{\"outlinewidth\":0,\"ticks\":\"\"},\"colorscale\":[[0.0,\"#0d0887\"],[0.1111111111111111,\"#46039f\"],[0.2222222222222222,\"#7201a8\"],[0.3333333333333333,\"#9c179e\"],[0.4444444444444444,\"#bd3786\"],[0.5555555555555556,\"#d8576b\"],[0.6666666666666666,\"#ed7953\"],[0.7777777777777778,\"#fb9f3a\"],[0.8888888888888888,\"#fdca26\"],[1.0,\"#f0f921\"]],\"type\":\"heatmap\"}],\"heatmapgl\":[{\"colorbar\":{\"outlinewidth\":0,\"ticks\":\"\"},\"colorscale\":[[0.0,\"#0d0887\"],[0.1111111111111111,\"#46039f\"],[0.2222222222222222,\"#7201a8\"],[0.3333333333333333,\"#9c179e\"],[0.4444444444444444,\"#bd3786\"],[0.5555555555555556,\"#d8576b\"],[0.6666666666666666,\"#ed7953\"],[0.7777777777777778,\"#fb9f3a\"],[0.8888888888888888,\"#fdca26\"],[1.0,\"#f0f921\"]],\"type\":\"heatmapgl\"}],\"histogram\":[{\"marker\":{\"pattern\":{\"fillmode\":\"overlay\",\"size\":10,\"solidity\":0.2}},\"type\":\"histogram\"}],\"histogram2d\":[{\"colorbar\":{\"outlinewidth\":0,\"ticks\":\"\"},\"colorscale\":[[0.0,\"#0d0887\"],[0.1111111111111111,\"#46039f\"],[0.2222222222222222,\"#7201a8\"],[0.3333333333333333,\"#9c179e\"],[0.4444444444444444,\"#bd3786\"],[0.5555555555555556,\"#d8576b\"],[0.6666666666666666,\"#ed7953\"],[0.7777777777777778,\"#fb9f3a\"],[0.8888888888888888,\"#fdca26\"],[1.0,\"#f0f921\"]],\"type\":\"histogram2d\"}],\"histogram2dcontour\":[{\"colorbar\":{\"outlinewidth\":0,\"ticks\":\"\"},\"colorscale\":[[0.0,\"#0d0887\"],[0.1111111111111111,\"#46039f\"],[0.2222222222222222,\"#7201a8\"],[0.3333333333333333,\"#9c179e\"],[0.4444444444444444,\"#bd3786\"],[0.5555555555555556,\"#d8576b\"],[0.6666666666666666,\"#ed7953\"],[0.7777777777777778,\"#fb9f3a\"],[0.8888888888888888,\"#fdca26\"],[1.0,\"#f0f921\"]],\"type\":\"histogram2dcontour\"}],\"mesh3d\":[{\"colorbar\":{\"outlinewidth\":0,\"ticks\":\"\"},\"type\":\"mesh3d\"}],\"parcoords\":[{\"line\":{\"colorbar\":{\"outlinewidth\":0,\"ticks\":\"\"}},\"type\":\"parcoords\"}],\"pie\":[{\"automargin\":true,\"type\":\"pie\"}],\"scatter\":[{\"marker\":{\"colorbar\":{\"outlinewidth\":0,\"ticks\":\"\"}},\"type\":\"scatter\"}],\"scatter3d\":[{\"line\":{\"colorbar\":{\"outlinewidth\":0,\"ticks\":\"\"}},\"marker\":{\"colorbar\":{\"outlinewidth\":0,\"ticks\":\"\"}},\"type\":\"scatter3d\"}],\"scattercarpet\":[{\"marker\":{\"colorbar\":{\"outlinewidth\":0,\"ticks\":\"\"}},\"type\":\"scattercarpet\"}],\"scattergeo\":[{\"marker\":{\"colorbar\":{\"outlinewidth\":0,\"ticks\":\"\"}},\"type\":\"scattergeo\"}],\"scattergl\":[{\"marker\":{\"colorbar\":{\"outlinewidth\":0,\"ticks\":\"\"}},\"type\":\"scattergl\"}],\"scattermapbox\":[{\"marker\":{\"colorbar\":{\"outlinewidth\":0,\"ticks\":\"\"}},\"type\":\"scattermapbox\"}],\"scatterpolar\":[{\"marker\":{\"colorbar\":{\"outlinewidth\":0,\"ticks\":\"\"}},\"type\":\"scatterpolar\"}],\"scatterpolargl\":[{\"marker\":{\"colorbar\":{\"outlinewidth\":0,\"ticks\":\"\"}},\"type\":\"scatterpolargl\"}],\"scatterternary\":[{\"marker\":{\"colorbar\":{\"outlinewidth\":0,\"ticks\":\"\"}},\"type\":\"scatterternary\"}],\"surface\":[{\"colorbar\":{\"outlinewidth\":0,\"ticks\":\"\"},\"colorscale\":[[0.0,\"#0d0887\"],[0.1111111111111111,\"#46039f\"],[0.2222222222222222,\"#7201a8\"],[0.3333333333333333,\"#9c179e\"],[0.4444444444444444,\"#bd3786\"],[0.5555555555555556,\"#d8576b\"],[0.6666666666666666,\"#ed7953\"],[0.7777777777777778,\"#fb9f3a\"],[0.8888888888888888,\"#fdca26\"],[1.0,\"#f0f921\"]],\"type\":\"surface\"}],\"table\":[{\"cells\":{\"fill\":{\"color\":\"#EBF0F8\"},\"line\":{\"color\":\"white\"}},\"header\":{\"fill\":{\"color\":\"#C8D4E3\"},\"line\":{\"color\":\"white\"}},\"type\":\"table\"}]},\"layout\":{\"annotationdefaults\":{\"arrowcolor\":\"#2a3f5f\",\"arrowhead\":0,\"arrowwidth\":1},\"autotypenumbers\":\"strict\",\"coloraxis\":{\"colorbar\":{\"outlinewidth\":0,\"ticks\":\"\"}},\"colorscale\":{\"diverging\":[[0,\"#8e0152\"],[0.1,\"#c51b7d\"],[0.2,\"#de77ae\"],[0.3,\"#f1b6da\"],[0.4,\"#fde0ef\"],[0.5,\"#f7f7f7\"],[0.6,\"#e6f5d0\"],[0.7,\"#b8e186\"],[0.8,\"#7fbc41\"],[0.9,\"#4d9221\"],[1,\"#276419\"]],\"sequential\":[[0.0,\"#0d0887\"],[0.1111111111111111,\"#46039f\"],[0.2222222222222222,\"#7201a8\"],[0.3333333333333333,\"#9c179e\"],[0.4444444444444444,\"#bd3786\"],[0.5555555555555556,\"#d8576b\"],[0.6666666666666666,\"#ed7953\"],[0.7777777777777778,\"#fb9f3a\"],[0.8888888888888888,\"#fdca26\"],[1.0,\"#f0f921\"]],\"sequentialminus\":[[0.0,\"#0d0887\"],[0.1111111111111111,\"#46039f\"],[0.2222222222222222,\"#7201a8\"],[0.3333333333333333,\"#9c179e\"],[0.4444444444444444,\"#bd3786\"],[0.5555555555555556,\"#d8576b\"],[0.6666666666666666,\"#ed7953\"],[0.7777777777777778,\"#fb9f3a\"],[0.8888888888888888,\"#fdca26\"],[1.0,\"#f0f921\"]]},\"colorway\":[\"#636efa\",\"#EF553B\",\"#00cc96\",\"#ab63fa\",\"#FFA15A\",\"#19d3f3\",\"#FF6692\",\"#B6E880\",\"#FF97FF\",\"#FECB52\"],\"font\":{\"color\":\"#2a3f5f\"},\"geo\":{\"bgcolor\":\"white\",\"lakecolor\":\"white\",\"landcolor\":\"#E5ECF6\",\"showlakes\":true,\"showland\":true,\"subunitcolor\":\"white\"},\"hoverlabel\":{\"align\":\"left\"},\"hovermode\":\"closest\",\"mapbox\":{\"style\":\"light\"},\"paper_bgcolor\":\"white\",\"plot_bgcolor\":\"#E5ECF6\",\"polar\":{\"angularaxis\":{\"gridcolor\":\"white\",\"linecolor\":\"white\",\"ticks\":\"\"},\"bgcolor\":\"#E5ECF6\",\"radialaxis\":{\"gridcolor\":\"white\",\"linecolor\":\"white\",\"ticks\":\"\"}},\"scene\":{\"xaxis\":{\"backgroundcolor\":\"#E5ECF6\",\"gridcolor\":\"white\",\"gridwidth\":2,\"linecolor\":\"white\",\"showbackground\":true,\"ticks\":\"\",\"zerolinecolor\":\"white\"},\"yaxis\":{\"backgroundcolor\":\"#E5ECF6\",\"gridcolor\":\"white\",\"gridwidth\":2,\"linecolor\":\"white\",\"showbackground\":true,\"ticks\":\"\",\"zerolinecolor\":\"white\"},\"zaxis\":{\"backgroundcolor\":\"#E5ECF6\",\"gridcolor\":\"white\",\"gridwidth\":2,\"linecolor\":\"white\",\"showbackground\":true,\"ticks\":\"\",\"zerolinecolor\":\"white\"}},\"shapedefaults\":{\"line\":{\"color\":\"#2a3f5f\"}},\"ternary\":{\"aaxis\":{\"gridcolor\":\"white\",\"linecolor\":\"white\",\"ticks\":\"\"},\"baxis\":{\"gridcolor\":\"white\",\"linecolor\":\"white\",\"ticks\":\"\"},\"bgcolor\":\"#E5ECF6\",\"caxis\":{\"gridcolor\":\"white\",\"linecolor\":\"white\",\"ticks\":\"\"}},\"title\":{\"x\":0.05},\"xaxis\":{\"automargin\":true,\"gridcolor\":\"white\",\"linecolor\":\"white\",\"ticks\":\"\",\"title\":{\"standoff\":15},\"zerolinecolor\":\"white\",\"zerolinewidth\":2},\"yaxis\":{\"automargin\":true,\"gridcolor\":\"white\",\"linecolor\":\"white\",\"ticks\":\"\",\"title\":{\"standoff\":15},\"zerolinecolor\":\"white\",\"zerolinewidth\":2}}},\"xaxis\":{\"anchor\":\"y\",\"domain\":[0.0,1.0],\"title\":{\"text\":\"Fecha\"}},\"yaxis\":{\"anchor\":\"x\",\"domain\":[0.0,1.0],\"title\":{\"text\":\"Cantidad\"}},\"legend\":{\"title\":{\"text\":\"Variable\"},\"tracegroupgap\":0},\"title\":{\"text\":\"Inmigrantes localizados vivos vs localizados muertos por mes\"}},                        {\"responsive\": true}                    ).then(function(){\n",
              "                            \n",
              "var gd = document.getElementById('5488fb6c-e86c-432a-831c-d116ef0ea30b');\n",
              "var x = new MutationObserver(function (mutations, observer) {{\n",
              "        var display = window.getComputedStyle(gd).display;\n",
              "        if (!display || display === 'none') {{\n",
              "            console.log([gd, 'removed!']);\n",
              "            Plotly.purge(gd);\n",
              "            observer.disconnect();\n",
              "        }}\n",
              "}});\n",
              "\n",
              "// Listen for the removal of the full notebook cells\n",
              "var notebookContainer = gd.closest('#notebook-container');\n",
              "if (notebookContainer) {{\n",
              "    x.observe(notebookContainer, {childList: true});\n",
              "}}\n",
              "\n",
              "// Listen for the clearing of the current output cell\n",
              "var outputEl = gd.closest('.output');\n",
              "if (outputEl) {{\n",
              "    x.observe(outputEl, {childList: true});\n",
              "}}\n",
              "\n",
              "                        })                };                            </script>        </div>\n",
              "</body>\n",
              "</html>"
            ]
          },
          "metadata": {}
        }
      ]
    },
    {
      "cell_type": "markdown",
      "source": [
        "## Diseño del tablero\n",
        "\n",
        "Se presenta a continuación el diseño del tablero elaborado en [draw.io](https://app.diagrams.net/).\n",
        "\n",
        "El tablero consistirá de tres secciones, en una sola página larga dividida o tres páginas diferentes, en donde se tenga la siguiente información.\n",
        "\n",
        "\n",
        "* Overview:\n",
        "  * KPI\n",
        "  * Numeralia de totales para el número de total personas localizadas, total muertas, total vivas.\n",
        "  * Una gráfica de barras de personas vivas y muertas, separados por sexo.\n",
        "\n",
        "* De los muertos:\n",
        "  * Una gráfica de barras de si fueron identificados.\n",
        "  * Un histograma con las edades.\n",
        "  * Una gráfica de barra de motivos de muerte.\n",
        "  * Una gráfica de barra de tiempo de localización.\n",
        "  * Histograma de año con más muertes.\n",
        "  * Histograma de mes con más muertes.\n",
        "\n",
        "* De los vivos:\n",
        "  * Histograma de la edad.\n",
        "  * Gráfica de barras de sexo.\n",
        "  * Gráfica de barras de nivel educativo.\n",
        "  * Gráfica de barras de personas que duraron menos de 30 días que informe que dependencias las capturaron.\n",
        "  * Servicios que más frecuentemente recibieron los capturados.\n"
      ],
      "metadata": {
        "id": "ZOTZ6n39XBME"
      }
    },
    {
      "cell_type": "markdown",
      "source": [
        "### Página 1\n",
        "\n",
        "<img title=\"Página 1\" alt=\"Alt text\" src=\"https://github.com/Maleniski/ing-caracteristicas/raw/main/DiagramasDeBorradorTableroMigrantes/BorradorTableroInmigrantes-Pagina1.png\" width=\"700\">"
      ],
      "metadata": {
        "id": "jOeh0PbBfbHf"
      }
    },
    {
      "cell_type": "markdown",
      "source": [
        "### Página 2\n",
        "\n",
        "<img title=\"Página 2\" alt=\"Alt text\" src=\"https://github.com/Maleniski/ing-caracteristicas/raw/main/DiagramasDeBorradorTableroMigrantes/BorradorTableroInmigrantes-Pagina2.png\" width=\"700\">"
      ],
      "metadata": {
        "id": "eAeBLeUUflEX"
      }
    },
    {
      "cell_type": "markdown",
      "source": [
        "### Página 3\n",
        "\n",
        "<img title=\"Página 2\" alt=\"Alt text\" src=\"https://github.com/Maleniski/ing-caracteristicas/raw/main/DiagramasDeBorradorTableroMigrantes/BorradorTableroInmigrantes-Pagina3.png\" width=\"700\">"
      ],
      "metadata": {
        "id": "Une6YN3Ufk7v"
      }
    }
  ]
}