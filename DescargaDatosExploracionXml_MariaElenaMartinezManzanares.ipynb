{
  "cells": [
    {
      "cell_type": "markdown",
      "metadata": {
        "id": "view-in-github",
        "colab_type": "text"
      },
      "source": [
        "<a href=\"https://colab.research.google.com/github/Maleniski/ing-caracteristicas/blob/main/DescargaDatosExploracionXml_MariaElenaMartinezManzanares.ipynb\" target=\"_parent\"><img src=\"https://colab.research.google.com/assets/colab-badge.svg\" alt=\"Open In Colab\"/></a>"
      ]
    },
    {
      "cell_type": "markdown",
      "metadata": {
        "id": "FV44JvbxXC66"
      },
      "source": [
        "<center>\n",
        "<p><img src=\"https://mcd.unison.mx/wp-content/themes/awaken/img/logo_mcd.png\" width=\"150\">\n",
        "</p>\n",
        "\n",
        "\n",
        "\n",
        "# Curso *Ingeniería de Características*\n",
        "\n",
        "### Descargando datos\n",
        "\n",
        "Estudiante: María Elena Martínez Manzanares.\n",
        "\n",
        "Programa: Maestría en Ciencia de Datos.\n",
        "\n",
        "Asignatura: Ingeniería de Características.\n",
        "\n",
        "Profesor: Julio Waissman Vilanova.\n",
        "\n",
        "<p>\n",
        "<img src=\"https://identidadbuho.unison.mx/wp-content/uploads/2019/06/letragrama-cmyk-72.jpg\" width=\"150\">\n",
        "</p>\n",
        "\n",
        "\n",
        "<a target=\"_blank\" href=\"https://colab.research.google.com/github/mcd-unison/ing-caract/blob/main/ejemplos/integracion/python/descarga_datos.ipynb\"><img src=\"https://i.ibb.co/2P3SLwK/colab.png\"  style=\"padding-bottom:5px;\" />Ejecuta en Google Colab</a>\n",
        "\n",
        "</center>"
      ]
    },
    {
      "cell_type": "code",
      "execution_count": null,
      "metadata": {
        "id": "ipf-8bzKXC7B"
      },
      "outputs": [],
      "source": [
        "\n",
        "import os  # Para manejo de archivos y directorios\n",
        "import urllib.request # Una forma estandard de descargar datos\n",
        "# import requests # Otra forma no de las librerías de uso comun\n",
        "import xml.etree.ElementTree as et\n",
        "\n",
        "import datetime # Fecha de descarga\n",
        "import pandas as pd # Solo para ver el archivo descargado\n",
        "import numpy as np\n",
        "import zipfile # Descompresión de archivos"
      ]
    },
    {
      "cell_type": "markdown",
      "metadata": {
        "id": "cKC3Jta2XC7J"
      },
      "source": [
        "# Archivos xml\n",
        "\n",
        "Los archivos *xml* son una manera de compartir información a través de internet o de guardar información con formatos genéricos que sigue siendo muy utilizada hoy en día. En general lidiar con archivos xml es una pesadilla y se necesita explorarlos con calma y revisarlos bien antes de usarlos. \n",
        "\n",
        "La definición del formato y su uso de pede revisar en [este tutorial de la w3schools](https://www.w3schools.com/xml/default.asp).\n"
      ]
    },
    {
      "cell_type": "markdown",
      "metadata": {
        "id": "iFTMn_4TXC7K"
      },
      "source": [
        "Wikipedia es un buen ejemplo de un lugar donde la información se guarda y se descarga en forma de archivos xml. Por ejemplo, si queremos descargar datos de la wikipedia [con su herramienta de exportación](https://es.wikipedia.org/wiki/Especial:Exportar) utilizando [las categorias definidas por Wikipedia](https://es.wikipedia.org/wiki/Portal:Portada). Para hacerlo en forma programática es ecesario usar la [API de Mediawiki](https://github.com/mudroljub/wikipedia-api-docs) que veremos más adelante.\n",
        "\n",
        "Por el momento descargemos unos datos de *wikipedia* y hagamos el ejercicio de tratar de entender la estructura del árbol."
      ]
    },
    {
      "cell_type": "code",
      "execution_count": null,
      "metadata": {
        "id": "60VRhEvvXC7K"
      },
      "outputs": [],
      "source": [
        "archivo_url = \"https://github.com/mcd-unison/ing-caract/raw/main/ejemplos/integracion/ejemplos/wikipedia-poetas.xml\"\n",
        "archivo_nombre = \"poetas.xml\"\n",
        "subdir = \"./data/\"\n",
        "\n",
        "if not os.path.exists(subdir + archivo_nombre):\n",
        "    if not os.path.exists(subdir):\n",
        "        os.makedirs(subdir)\n",
        "    urllib.request.urlretrieve(archivo_url, subdir + archivo_nombre)\n"
      ]
    },
    {
      "cell_type": "markdown",
      "source": [
        "Creamos el acceso que nos permite navegar entre los bloques de información del archivo xml."
      ],
      "metadata": {
        "id": "eW7HJm30Jl4z"
      }
    },
    {
      "cell_type": "code",
      "source": [
        "poetas = et.parse(subdir + archivo_nombre)\n",
        "root = poetas.getroot()"
      ],
      "metadata": {
        "id": "Gym_QSwsPv3W"
      },
      "execution_count": null,
      "outputs": []
    },
    {
      "cell_type": "markdown",
      "source": [
        "Desplegamos los atributos y vemos el nombre que nos permiten acceder al bloque de información. Podemos ver que para poder acceder a diferentes bloques de información (atributos del xml) tiene la estructura\n",
        "\n",
        "\n",
        "\n",
        "> '{ http://www.mediawiki.org/xml/export-0.10/ }NombreDelAtributo'\n",
        "\n"
      ],
      "metadata": {
        "id": "WEan12uSJyMY"
      }
    },
    {
      "cell_type": "code",
      "source": [
        "[elem.tag for elem in root.iter()][50:60]"
      ],
      "metadata": {
        "colab": {
          "base_uri": "https://localhost:8080/"
        },
        "id": "gi00YJZ4sQma",
        "outputId": "0084db18-9365-4940-dc98-16dbaf382f61"
      },
      "execution_count": null,
      "outputs": [
        {
          "output_type": "execute_result",
          "data": {
            "text/plain": [
              "['{http://www.mediawiki.org/xml/export-0.10/}id',\n",
              " '{http://www.mediawiki.org/xml/export-0.10/}comment',\n",
              " '{http://www.mediawiki.org/xml/export-0.10/}model',\n",
              " '{http://www.mediawiki.org/xml/export-0.10/}format',\n",
              " '{http://www.mediawiki.org/xml/export-0.10/}text',\n",
              " '{http://www.mediawiki.org/xml/export-0.10/}sha1',\n",
              " '{http://www.mediawiki.org/xml/export-0.10/}page',\n",
              " '{http://www.mediawiki.org/xml/export-0.10/}title',\n",
              " '{http://www.mediawiki.org/xml/export-0.10/}ns',\n",
              " '{http://www.mediawiki.org/xml/export-0.10/}id']"
            ]
          },
          "metadata": {},
          "execution_count": 4
        }
      ]
    },
    {
      "cell_type": "markdown",
      "source": [
        "Accedemos al atributo autor, su biografía, fechas de modificación del artículo de wikipedia, el nombre del usuario que editó el artículo.\n",
        "\n",
        "Ponemos esta información en una tabla de pandas."
      ],
      "metadata": {
        "id": "8RfCiFvXKwjP"
      }
    },
    {
      "cell_type": "code",
      "source": [
        "autores = []\n",
        "for autor in root.iter('{http://www.mediawiki.org/xml/export-0.10/}title'):\n",
        "    autores.append(autor.text)"
      ],
      "metadata": {
        "id": "3kAL6SRosQgM"
      },
      "execution_count": null,
      "outputs": []
    },
    {
      "cell_type": "code",
      "source": [
        "fechas_modificacion = []\n",
        "for revision in root.iter('{http://www.mediawiki.org/xml/export-0.10/}timestamp'):\n",
        "    fechas_modificacion.append(revision.text)"
      ],
      "metadata": {
        "id": "w2xrBD4ouA6y"
      },
      "execution_count": null,
      "outputs": []
    },
    {
      "cell_type": "code",
      "source": [
        "biography = []\n",
        "for bio in root.iter('{http://www.mediawiki.org/xml/export-0.10/}text'):\n",
        "    biography.append(bio.text)"
      ],
      "metadata": {
        "id": "E-fyXYxeuj7U"
      },
      "execution_count": null,
      "outputs": []
    },
    {
      "cell_type": "code",
      "source": [
        "username=[]\n",
        "for usname in root.iter('{http://www.mediawiki.org/xml/export-0.10/}username'):\n",
        "    username.append(usname.text)"
      ],
      "metadata": {
        "id": "7_CH0NFvvM-J"
      },
      "execution_count": null,
      "outputs": []
    },
    {
      "cell_type": "code",
      "source": [
        "data = pd.DataFrame(columns = ['Autor','Biografia','Fecha_Modificacion'])\n",
        "for i in range(len(autores)):\n",
        "  data = pd.concat([data,\n",
        "                  pd.DataFrame.from_records([{'Autor': autores[i], \n",
        "                                              'Biografia': biography[i], \n",
        "                                              \"Fecha_Modificacion\": fechas_modificacion[i]}]\n",
        "                                            )], ignore_index=True)"
      ],
      "metadata": {
        "id": "BlQdSs8ow7dJ"
      },
      "execution_count": null,
      "outputs": []
    },
    {
      "cell_type": "markdown",
      "source": [
        "Podemos acceder a más información si extraemos datos de la biografía. Dado que el bloque biografía es una cadena de caracteres, para poder extraer información es necesario utilizar expresiones regulares.\n",
        "\n",
        "Podemos extraer, por ejemplo, el año de nacimiento, y el mes y día de nacimiento."
      ],
      "metadata": {
        "id": "eRgg-WU_LBks"
      }
    },
    {
      "cell_type": "code",
      "source": [
        "import re"
      ],
      "metadata": {
        "id": "djqajbFWyzaQ"
      },
      "execution_count": null,
      "outputs": []
    },
    {
      "cell_type": "code",
      "source": [
        "year_birth=[]\n",
        "day_month_birth=[]\n",
        "for i in range(len(data)):\n",
        "  \n",
        "  try:\n",
        "    year_birth.append(re.search(r\"\\[\\[([1-3][0-9]{3})\\]\\]\", data[\"Biografia\"].iloc[i]).group(1))\n",
        "  except:\n",
        "    year_birth.append(np.nan)\n",
        "  \n",
        "  try:\n",
        "    day_month_birth.append(re.search(r\"\\[\\[([1-3][1-9]\\s.*?)\\]\\]\", data[\"Biografia\"].iloc[i]).group(1))\n",
        "  except:\n",
        "    day_month_birth.append(np.nan)"
      ],
      "metadata": {
        "id": "mmr4H1jhB2f7"
      },
      "execution_count": null,
      "outputs": []
    },
    {
      "cell_type": "code",
      "source": [
        "data[\"Año_Nacimiento\"]=year_birth\n",
        "data[\"Dia_Mes_Nacimiento\"]=day_month_birth"
      ],
      "metadata": {
        "id": "7V0TmwOaCxSj"
      },
      "execution_count": null,
      "outputs": []
    },
    {
      "cell_type": "code",
      "source": [
        "data"
      ],
      "metadata": {
        "colab": {
          "base_uri": "https://localhost:8080/",
          "height": 424
        },
        "id": "N_B8vJdYENb-",
        "outputId": "0777a3b2-b0a3-4ced-b348-2b0d528d57ff"
      },
      "execution_count": null,
      "outputs": [
        {
          "output_type": "execute_result",
          "data": {
            "text/plain": [
              "                         Autor  \\\n",
              "0    Julia Morilla de Campbell   \n",
              "1                 Luis Negreti   \n",
              "2                   Poldy Bird   \n",
              "3               Ana María Shua   \n",
              "4                 León Benarós   \n",
              "..                         ...   \n",
              "634            Humberto Tejera   \n",
              "635          Mario Molina Cruz   \n",
              "636      Luis Ignacio Helguera   \n",
              "637   Daniel Olivares Viniegra   \n",
              "638     Guadalupe Flores Liera   \n",
              "\n",
              "                                             Biografia    Fecha_Modificacion  \\\n",
              "0    '''Julia Morilla de Campbell''' ([[Rosario (Ar...  2017-10-30T07:46:11Z   \n",
              "1    {{Ficha de escritor\\n|Imagen              = NE...  2016-09-17T17:35:26Z   \n",
              "2    {{Ficha de persona\\n| padres = Enrique Bird Mo...  2018-06-11T04:34:41Z   \n",
              "3    {{Ficha de persona\\n|imagen=\\n|nombre de nacim...  2018-06-13T18:50:17Z   \n",
              "4    {{Ficha de persona\\n|nombre           = León B...  2018-04-29T21:49:56Z   \n",
              "..                                                 ...                   ...   \n",
              "634  {{Ficha de persona\\n| nombre = Humberto Tejera...  2018-07-06T17:07:38Z   \n",
              "635  {{Ficha de escritor\\n|nombre= Mario Molina Cru...  2018-07-23T14:27:14Z   \n",
              "636  {{Ficha de persona\\n| nombre = Luis Ignacio He...  2018-05-11T14:19:35Z   \n",
              "637  {{Promocional|8|julio}}\\n\\n'''Daniel Olivares ...  2018-07-20T21:56:20Z   \n",
              "638  '''Guadalupe Flores Liera''' (Ciudad de México...  2018-07-21T06:52:42Z   \n",
              "\n",
              "    Año_Nacimiento Dia_Mes_Nacimiento  \n",
              "0             1922        18 de julio  \n",
              "1             1890        16 de enero  \n",
              "2             1941    16 de diciembre  \n",
              "3             1951        22 de abril  \n",
              "4             1915       25 de agosto  \n",
              "..             ...                ...  \n",
              "634            NaN                NaN  \n",
              "635           1955        19 de enero  \n",
              "636           1962         11 de mayo  \n",
              "637            NaN                NaN  \n",
              "638            NaN                NaN  \n",
              "\n",
              "[639 rows x 5 columns]"
            ],
            "text/html": [
              "\n",
              "  <div id=\"df-f13ae2d0-5710-43bc-9505-5d6ed720d495\">\n",
              "    <div class=\"colab-df-container\">\n",
              "      <div>\n",
              "<style scoped>\n",
              "    .dataframe tbody tr th:only-of-type {\n",
              "        vertical-align: middle;\n",
              "    }\n",
              "\n",
              "    .dataframe tbody tr th {\n",
              "        vertical-align: top;\n",
              "    }\n",
              "\n",
              "    .dataframe thead th {\n",
              "        text-align: right;\n",
              "    }\n",
              "</style>\n",
              "<table border=\"1\" class=\"dataframe\">\n",
              "  <thead>\n",
              "    <tr style=\"text-align: right;\">\n",
              "      <th></th>\n",
              "      <th>Autor</th>\n",
              "      <th>Biografia</th>\n",
              "      <th>Fecha_Modificacion</th>\n",
              "      <th>Año_Nacimiento</th>\n",
              "      <th>Dia_Mes_Nacimiento</th>\n",
              "    </tr>\n",
              "  </thead>\n",
              "  <tbody>\n",
              "    <tr>\n",
              "      <th>0</th>\n",
              "      <td>Julia Morilla de Campbell</td>\n",
              "      <td>'''Julia Morilla de Campbell''' ([[Rosario (Ar...</td>\n",
              "      <td>2017-10-30T07:46:11Z</td>\n",
              "      <td>1922</td>\n",
              "      <td>18 de julio</td>\n",
              "    </tr>\n",
              "    <tr>\n",
              "      <th>1</th>\n",
              "      <td>Luis Negreti</td>\n",
              "      <td>{{Ficha de escritor\\n|Imagen              = NE...</td>\n",
              "      <td>2016-09-17T17:35:26Z</td>\n",
              "      <td>1890</td>\n",
              "      <td>16 de enero</td>\n",
              "    </tr>\n",
              "    <tr>\n",
              "      <th>2</th>\n",
              "      <td>Poldy Bird</td>\n",
              "      <td>{{Ficha de persona\\n| padres = Enrique Bird Mo...</td>\n",
              "      <td>2018-06-11T04:34:41Z</td>\n",
              "      <td>1941</td>\n",
              "      <td>16 de diciembre</td>\n",
              "    </tr>\n",
              "    <tr>\n",
              "      <th>3</th>\n",
              "      <td>Ana María Shua</td>\n",
              "      <td>{{Ficha de persona\\n|imagen=\\n|nombre de nacim...</td>\n",
              "      <td>2018-06-13T18:50:17Z</td>\n",
              "      <td>1951</td>\n",
              "      <td>22 de abril</td>\n",
              "    </tr>\n",
              "    <tr>\n",
              "      <th>4</th>\n",
              "      <td>León Benarós</td>\n",
              "      <td>{{Ficha de persona\\n|nombre           = León B...</td>\n",
              "      <td>2018-04-29T21:49:56Z</td>\n",
              "      <td>1915</td>\n",
              "      <td>25 de agosto</td>\n",
              "    </tr>\n",
              "    <tr>\n",
              "      <th>...</th>\n",
              "      <td>...</td>\n",
              "      <td>...</td>\n",
              "      <td>...</td>\n",
              "      <td>...</td>\n",
              "      <td>...</td>\n",
              "    </tr>\n",
              "    <tr>\n",
              "      <th>634</th>\n",
              "      <td>Humberto Tejera</td>\n",
              "      <td>{{Ficha de persona\\n| nombre = Humberto Tejera...</td>\n",
              "      <td>2018-07-06T17:07:38Z</td>\n",
              "      <td>NaN</td>\n",
              "      <td>NaN</td>\n",
              "    </tr>\n",
              "    <tr>\n",
              "      <th>635</th>\n",
              "      <td>Mario Molina Cruz</td>\n",
              "      <td>{{Ficha de escritor\\n|nombre= Mario Molina Cru...</td>\n",
              "      <td>2018-07-23T14:27:14Z</td>\n",
              "      <td>1955</td>\n",
              "      <td>19 de enero</td>\n",
              "    </tr>\n",
              "    <tr>\n",
              "      <th>636</th>\n",
              "      <td>Luis Ignacio Helguera</td>\n",
              "      <td>{{Ficha de persona\\n| nombre = Luis Ignacio He...</td>\n",
              "      <td>2018-05-11T14:19:35Z</td>\n",
              "      <td>1962</td>\n",
              "      <td>11 de mayo</td>\n",
              "    </tr>\n",
              "    <tr>\n",
              "      <th>637</th>\n",
              "      <td>Daniel Olivares Viniegra</td>\n",
              "      <td>{{Promocional|8|julio}}\\n\\n'''Daniel Olivares ...</td>\n",
              "      <td>2018-07-20T21:56:20Z</td>\n",
              "      <td>NaN</td>\n",
              "      <td>NaN</td>\n",
              "    </tr>\n",
              "    <tr>\n",
              "      <th>638</th>\n",
              "      <td>Guadalupe Flores Liera</td>\n",
              "      <td>'''Guadalupe Flores Liera''' (Ciudad de México...</td>\n",
              "      <td>2018-07-21T06:52:42Z</td>\n",
              "      <td>NaN</td>\n",
              "      <td>NaN</td>\n",
              "    </tr>\n",
              "  </tbody>\n",
              "</table>\n",
              "<p>639 rows × 5 columns</p>\n",
              "</div>\n",
              "      <button class=\"colab-df-convert\" onclick=\"convertToInteractive('df-f13ae2d0-5710-43bc-9505-5d6ed720d495')\"\n",
              "              title=\"Convert this dataframe to an interactive table.\"\n",
              "              style=\"display:none;\">\n",
              "        \n",
              "  <svg xmlns=\"http://www.w3.org/2000/svg\" height=\"24px\"viewBox=\"0 0 24 24\"\n",
              "       width=\"24px\">\n",
              "    <path d=\"M0 0h24v24H0V0z\" fill=\"none\"/>\n",
              "    <path d=\"M18.56 5.44l.94 2.06.94-2.06 2.06-.94-2.06-.94-.94-2.06-.94 2.06-2.06.94zm-11 1L8.5 8.5l.94-2.06 2.06-.94-2.06-.94L8.5 2.5l-.94 2.06-2.06.94zm10 10l.94 2.06.94-2.06 2.06-.94-2.06-.94-.94-2.06-.94 2.06-2.06.94z\"/><path d=\"M17.41 7.96l-1.37-1.37c-.4-.4-.92-.59-1.43-.59-.52 0-1.04.2-1.43.59L10.3 9.45l-7.72 7.72c-.78.78-.78 2.05 0 2.83L4 21.41c.39.39.9.59 1.41.59.51 0 1.02-.2 1.41-.59l7.78-7.78 2.81-2.81c.8-.78.8-2.07 0-2.86zM5.41 20L4 18.59l7.72-7.72 1.47 1.35L5.41 20z\"/>\n",
              "  </svg>\n",
              "      </button>\n",
              "      \n",
              "  <style>\n",
              "    .colab-df-container {\n",
              "      display:flex;\n",
              "      flex-wrap:wrap;\n",
              "      gap: 12px;\n",
              "    }\n",
              "\n",
              "    .colab-df-convert {\n",
              "      background-color: #E8F0FE;\n",
              "      border: none;\n",
              "      border-radius: 50%;\n",
              "      cursor: pointer;\n",
              "      display: none;\n",
              "      fill: #1967D2;\n",
              "      height: 32px;\n",
              "      padding: 0 0 0 0;\n",
              "      width: 32px;\n",
              "    }\n",
              "\n",
              "    .colab-df-convert:hover {\n",
              "      background-color: #E2EBFA;\n",
              "      box-shadow: 0px 1px 2px rgba(60, 64, 67, 0.3), 0px 1px 3px 1px rgba(60, 64, 67, 0.15);\n",
              "      fill: #174EA6;\n",
              "    }\n",
              "\n",
              "    [theme=dark] .colab-df-convert {\n",
              "      background-color: #3B4455;\n",
              "      fill: #D2E3FC;\n",
              "    }\n",
              "\n",
              "    [theme=dark] .colab-df-convert:hover {\n",
              "      background-color: #434B5C;\n",
              "      box-shadow: 0px 1px 3px 1px rgba(0, 0, 0, 0.15);\n",
              "      filter: drop-shadow(0px 1px 2px rgba(0, 0, 0, 0.3));\n",
              "      fill: #FFFFFF;\n",
              "    }\n",
              "  </style>\n",
              "\n",
              "      <script>\n",
              "        const buttonEl =\n",
              "          document.querySelector('#df-f13ae2d0-5710-43bc-9505-5d6ed720d495 button.colab-df-convert');\n",
              "        buttonEl.style.display =\n",
              "          google.colab.kernel.accessAllowed ? 'block' : 'none';\n",
              "\n",
              "        async function convertToInteractive(key) {\n",
              "          const element = document.querySelector('#df-f13ae2d0-5710-43bc-9505-5d6ed720d495');\n",
              "          const dataTable =\n",
              "            await google.colab.kernel.invokeFunction('convertToInteractive',\n",
              "                                                     [key], {});\n",
              "          if (!dataTable) return;\n",
              "\n",
              "          const docLinkHtml = 'Like what you see? Visit the ' +\n",
              "            '<a target=\"_blank\" href=https://colab.research.google.com/notebooks/data_table.ipynb>data table notebook</a>'\n",
              "            + ' to learn more about interactive tables.';\n",
              "          element.innerHTML = '';\n",
              "          dataTable['output_type'] = 'display_data';\n",
              "          await google.colab.output.renderOutput(dataTable, element);\n",
              "          const docLink = document.createElement('div');\n",
              "          docLink.innerHTML = docLinkHtml;\n",
              "          element.appendChild(docLink);\n",
              "        }\n",
              "      </script>\n",
              "    </div>\n",
              "  </div>\n",
              "  "
            ]
          },
          "metadata": {},
          "execution_count": 13
        }
      ]
    },
    {
      "cell_type": "markdown",
      "source": [
        "Con esta información a la cual pudimos acceder, algunas preguntas interesantes seria ver si hay una concentración de nacimiento de poetas en alguna decada en particular.\n",
        "\n",
        "También, podríamos analizar si hay concentración de fechas de moficación en un periodo en del tiempo en particular. Si esto fuera cierto, podría analizarse si esta relacionado con algún evento o suceso ocurrido en ese periodo."
      ],
      "metadata": {
        "id": "mCKRf3LTLSK3"
      }
    },
    {
      "cell_type": "markdown",
      "source": [
        "Exportamos en parquet."
      ],
      "metadata": {
        "id": "z248JlXpflKG"
      }
    },
    {
      "cell_type": "code",
      "source": [
        "data.to_parquet('poetas.parquet.gzip',compression='gzip')"
      ],
      "metadata": {
        "id": "zwTsr-XLfoId"
      },
      "execution_count": null,
      "outputs": []
    }
  ],
  "metadata": {
    "kernelspec": {
      "display_name": "Python 3.8.5 ('caract')",
      "language": "python",
      "name": "python3"
    },
    "language_info": {
      "codemirror_mode": {
        "name": "ipython",
        "version": 3
      },
      "file_extension": ".py",
      "mimetype": "text/x-python",
      "name": "python",
      "nbconvert_exporter": "python",
      "pygments_lexer": "ipython3",
      "version": "3.8.5"
    },
    "orig_nbformat": 4,
    "vscode": {
      "interpreter": {
        "hash": "266c02d0b88fb79ac68216b08bc6bf334e56f5daeb776843302a4ad1205260c4"
      }
    },
    "colab": {
      "provenance": [],
      "include_colab_link": true
    }
  },
  "nbformat": 4,
  "nbformat_minor": 0
}